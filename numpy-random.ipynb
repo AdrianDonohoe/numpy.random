{
 "cells": [
  {
   "cell_type": "markdown",
   "metadata": {},
   "source": [
    "# The numpy.random package"
   ]
  },
  {
   "cell_type": "markdown",
   "metadata": {},
   "source": [
    "***\n",
    "## Introduction\n",
    "\n",
    "numpy.random is a module from the NumPy package. NumPy is the fundamental package for scientific computing with Python [1]. For simulation purposes, it may be necessary to generate random data. One of the many capabilities of NumPy is random number generation. The numpy.random package uses the Mersenne Twister Pseudo-Random Number Generator (PRNG) [2].\n",
    "\n",
    "The package can be used once it is imported as follows."
   ]
  },
  {
   "cell_type": "code",
   "execution_count": 1,
   "metadata": {},
   "outputs": [],
   "source": [
    "import numpy as np # import the numpy package"
   ]
  },
  {
   "cell_type": "markdown",
   "metadata": {},
   "source": [
    "***\n",
    "## Simple Random Data Functions"
   ]
  },
  {
   "cell_type": "markdown",
   "metadata": {},
   "source": [
    "### numpy.random.rand() Function\n",
    "\n",
    "numpy.random.rand(d0, d1, ..., dn)\n",
    "\n",
    "This function creates an array of random numbers between 0 and up to, but not including 1. \n",
    "\n",
    "The dimension of the returned array can be specified by using the dimension arguments in the function i.e. np.random.rand(1,2) will return an array of 1 row with 2 numbers, np.random.rand(3,2,4) will return a 3-dimensional array of 4\\*2\\*3 numbers. \n",
    "\n",
    "If no dimension is specified, a single random number is returned.\n",
    "\n",
    "To generate a single dimensional array, the number of random numbers required is used as the dimension argument.\n",
    "\n",
    "The subsequent cells show the examples given."
   ]
  },
  {
   "cell_type": "code",
   "execution_count": 23,
   "metadata": {},
   "outputs": [
    {
     "data": {
      "text/plain": [
       "array([[0.49821603, 0.83128048]])"
      ]
     },
     "execution_count": 23,
     "metadata": {},
     "output_type": "execute_result"
    }
   ],
   "source": [
    "np.random.rand(1,2) # Create an array with 1 row and 2 columns"
   ]
  },
  {
   "cell_type": "code",
   "execution_count": 17,
   "metadata": {},
   "outputs": [
    {
     "data": {
      "text/plain": [
       "array([[[0.89032393, 0.46207401, 0.41542949, 0.92490075],\n",
       "        [0.59102587, 0.98424244, 0.12184133, 0.29475423]],\n",
       "\n",
       "       [[0.5171941 , 0.15095393, 0.6806265 , 0.79708967],\n",
       "        [0.61440258, 0.4305988 , 0.83738224, 0.71377749]],\n",
       "\n",
       "       [[0.74369501, 0.02888275, 0.08985462, 0.41183257],\n",
       "        [0.7616483 , 0.83165074, 0.98726309, 0.34190843]]])"
      ]
     },
     "execution_count": 17,
     "metadata": {},
     "output_type": "execute_result"
    }
   ],
   "source": [
    "np.random.rand(3,2,4) # Create an array of dimension 3*2*4"
   ]
  },
  {
   "cell_type": "code",
   "execution_count": 21,
   "metadata": {},
   "outputs": [
    {
     "data": {
      "text/plain": [
       "0.6561870928370026"
      ]
     },
     "execution_count": 21,
     "metadata": {},
     "output_type": "execute_result"
    }
   ],
   "source": [
    "np.random.rand() # Create an array with a single value"
   ]
  },
  {
   "cell_type": "code",
   "execution_count": 22,
   "metadata": {},
   "outputs": [
    {
     "data": {
      "text/plain": [
       "array([0.90370443, 0.77784505, 0.20506306, 0.48466893, 0.41710026,\n",
       "       0.02343438, 0.22547567, 0.1761286 , 0.1993767 , 0.91574441,\n",
       "       0.89800689, 0.95302119, 0.40560885, 0.66973662, 0.8512226 ,\n",
       "       0.33156129, 0.63493334, 0.01874103, 0.55699446, 0.81689339,\n",
       "       0.70939285, 0.28969373, 0.34423699, 0.05906936, 0.94498304,\n",
       "       0.28967949, 0.58247905, 0.235157  , 0.62831974, 0.05500084,\n",
       "       0.38996422, 0.63288061, 0.94433019, 0.6119214 , 0.610729  ,\n",
       "       0.54804262, 0.97474787, 0.27348687, 0.9944837 , 0.34102444,\n",
       "       0.13723254, 0.09430226, 0.74701127, 0.65701533, 0.07361355,\n",
       "       0.65378484, 0.94103817, 0.00432783, 0.52054851, 0.11629658,\n",
       "       0.05123394, 0.12547242, 0.25571399, 0.61529709, 0.22597351,\n",
       "       0.92735011, 0.23214762, 0.73870235, 0.24332512, 0.98630502,\n",
       "       0.70889886, 0.3465453 , 0.16770954, 0.24418612, 0.74686503,\n",
       "       0.3007006 , 0.65705186, 0.47095562, 0.61273608, 0.53864351,\n",
       "       0.03485728, 0.05795787, 0.89039006, 0.75435199, 0.44750932,\n",
       "       0.77338191, 0.28420543, 0.51327109, 0.5608667 , 0.05600146,\n",
       "       0.19931191, 0.9867658 , 0.45096814, 0.95058804, 0.3402208 ,\n",
       "       0.65581858, 0.12129036, 0.70899482, 0.16711019, 0.34477055,\n",
       "       0.37256562, 0.51630719, 0.75084009, 0.28495503, 0.18756554,\n",
       "       0.51370316, 0.71462153, 0.41825102, 0.03284641, 0.7181186 ])"
      ]
     },
     "execution_count": 22,
     "metadata": {},
     "output_type": "execute_result"
    }
   ],
   "source": [
    "np.random.rand(100) # Create an array with 100 values"
   ]
  },
  {
   "cell_type": "markdown",
   "metadata": {},
   "source": [
    "#### Histogram of 10,000 randomly selected numbers by rand function\n",
    "In the histogram plot below, 10,000 random numbers are generated and plotted in a histogram. The histogram shows a relatively even distribution of the randomly chosen numbers. "
   ]
  },
  {
   "cell_type": "code",
   "execution_count": 3,
   "metadata": {},
   "outputs": [
    {
     "data": {
      "image/png": "[encoded data removed]",
      "text/plain": [
       "<Figure size 432x288 with 1 Axes>"
      ]
     },
     "metadata": {
      "needs_background": "light"
     },
     "output_type": "display_data"
    }
   ],
   "source": [
    "x = np.random.rand(10000) # Create a random array of 10000 numbers between 0 and 1\n",
    "import matplotlib.pyplot as plt # Import pyplot in order to use the hist function in matplotlib\n",
    "plt.hist(x); # Plot a histogram of x"
   ]
  },
  {
   "cell_type": "markdown",
   "metadata": {},
   "source": [
    "***\n",
    "### numpy.random.randn() Function\n",
    "numpy.random.randn(d0, d1, ..., dn)\n",
    "This function creates an array of random numbers using the standard normal distribution. The standard normal distribution is a special case of the normal distribution . It is the distribution that occurs when a normal random variable has a mean of zero and a standard deviation of one [3].\n",
    "\n",
    "The dimension of the returned array can be specified by using the dimension arguments in the function i.e. np.random.randn(1,2) will return an array of 1 row with 2 numbers, np.random.randn(3,2,5) will return a 3-dimensional array of 5\\*2\\*3 numbers. The \n",
    "\n",
    "If no dimension is specified, a single random number is returned. \n",
    "\n",
    "To generate a single dimensional array, the number of random numbers required is used as the dimension argument.\n",
    "\n",
    "The subsequent cells show the examples given."
   ]
  },
  {
   "cell_type": "code",
   "execution_count": 13,
   "metadata": {},
   "outputs": [
    {
     "data": {
      "text/plain": [
       "array([[ 1.24493034, -0.17491435]])"
      ]
     },
     "execution_count": 13,
     "metadata": {},
     "output_type": "execute_result"
    }
   ],
   "source": [
    "np.random.randn(1,2) # Returns a 1 row , 2 columns array"
   ]
  },
  {
   "cell_type": "code",
   "execution_count": 15,
   "metadata": {},
   "outputs": [
    {
     "data": {
      "text/plain": [
       "array([[[-0.02219081, -1.1526999 , -0.81263396,  0.40100745,\n",
       "         -0.73020547],\n",
       "        [-1.32300042,  0.95203493, -1.46313053, -0.22806385,\n",
       "          1.36548204]],\n",
       "\n",
       "       [[ 0.20385017,  1.18307393, -1.10952975,  1.01721867,\n",
       "         -0.89575171],\n",
       "        [-0.17331009,  0.75179518, -0.10930725, -0.19911753,\n",
       "          0.29385981]],\n",
       "\n",
       "       [[ 1.20671927, -0.52229036,  1.17592163, -1.22611974,\n",
       "          1.09235299],\n",
       "        [-0.89864819,  0.49328204, -0.49737671,  1.33242819,\n",
       "          1.13962092]]])"
      ]
     },
     "execution_count": 15,
     "metadata": {},
     "output_type": "execute_result"
    }
   ],
   "source": [
    "np.random.randn(3,2,5) # Returns an array of dimension 3*2*5"
   ]
  },
  {
   "cell_type": "code",
   "execution_count": 18,
   "metadata": {},
   "outputs": [
    {
     "data": {
      "text/plain": [
       "-0.7059002692141332"
      ]
     },
     "execution_count": 18,
     "metadata": {},
     "output_type": "execute_result"
    }
   ],
   "source": [
    "np.random.randn() # Returns a single value array"
   ]
  },
  {
   "cell_type": "code",
   "execution_count": 17,
   "metadata": {},
   "outputs": [
    {
     "data": {
      "text/plain": [
       "array([ 9.72194772e-01,  6.01797801e-01,  4.10036352e-01,  3.32682512e-01,\n",
       "        7.99360018e-01,  3.96628576e-01, -5.51938108e-01, -1.38537651e-01,\n",
       "       -1.28691218e+00, -4.83000179e-05, -2.05551517e-01,  1.45599910e+00,\n",
       "        9.72013659e-01, -9.53301576e-01,  6.76653014e-01, -1.49878366e-01,\n",
       "       -1.43578793e+00, -4.39356169e-01,  1.49008546e+00, -5.02163167e-01,\n",
       "       -9.68037064e-01,  3.40360362e-01, -1.20757331e+00, -5.16715102e-01,\n",
       "        6.77318402e-01, -1.05001864e+00,  5.20111365e-02,  2.62664400e-01,\n",
       "       -7.15903453e-01,  2.41235161e+00,  1.52386915e+00, -1.32665548e+00,\n",
       "       -1.37462936e+00,  1.95599780e+00,  3.33458798e-01,  1.57609533e+00,\n",
       "        7.94729796e-01, -4.02666955e-01,  3.77894246e-01, -2.81220196e-01,\n",
       "        3.44693543e-01,  3.18647165e-01,  1.10472756e+00, -5.38012135e-01,\n",
       "       -1.73885353e+00,  2.22737980e+00, -9.13205735e-01,  1.49344469e+00,\n",
       "       -8.86862509e-01, -3.62067210e-02, -2.13989973e-02,  1.69033099e+00,\n",
       "        1.80671087e+00,  9.19959347e-01,  4.79884958e-01, -3.13567425e-01,\n",
       "       -1.73509505e-01,  1.80402454e+00, -1.67690847e+00,  8.47356256e-01,\n",
       "        2.78709018e-01,  7.27666004e-01, -6.65272393e-01,  1.20678014e+00,\n",
       "       -1.21359269e+00, -1.60542373e+00, -6.22187826e-01, -7.19122729e-01,\n",
       "       -7.90492266e-01,  5.76031873e-01,  3.30777220e-01,  2.68465277e-01,\n",
       "        3.21150070e-01, -1.24836149e-01, -9.21453473e-02,  1.94972035e-01,\n",
       "        6.61250326e-01,  6.57080574e-01, -4.80357556e-01,  2.09358031e-01,\n",
       "        5.70055479e-01, -2.26547291e-01,  4.60197416e-01, -2.32040428e-01,\n",
       "        2.85463471e-01,  5.91770085e-01,  8.46206901e-01, -1.39744450e+00,\n",
       "       -4.23059157e-01,  6.16132052e-02, -7.11688876e-01,  8.72233773e-01,\n",
       "       -2.66364588e+00,  1.10544977e+00, -1.01575258e+00, -4.36591190e-02,\n",
       "       -6.87071314e-01, -6.00823410e-01, -1.93970777e+00, -7.78909027e-01])"
      ]
     },
     "execution_count": 17,
     "metadata": {},
     "output_type": "execute_result"
    }
   ],
   "source": [
    "np.random.randn(100) # Returns an array with 100 values"
   ]
  },
  {
   "cell_type": "markdown",
   "metadata": {},
   "source": [
    "#### Histogram of 10,000 randomly selected numbers by randn function\n",
    "In the histogram plot below, 10,000 random numbers are generated by randn and plotted in a histogram. As you would expect from the standard normal distribution, the the plot is centred around 0 (the mean) and most of the values are between -1 and 1 (standard deviation of 1)."
   ]
  },
  {
   "cell_type": "code",
   "execution_count": 12,
   "metadata": {},
   "outputs": [
    {
     "data": {
      "image/png": "[encoded data removed]",
      "text/plain": [
       "<Figure size 432x288 with 1 Axes>"
      ]
     },
     "metadata": {
      "needs_background": "light"
     },
     "output_type": "display_data"
    }
   ],
   "source": [
    "x = np.random.randn(10000) # Create an array x with 10,000 values\n",
    "plt.hist(x); # Plot a histogram of x"
   ]
  },
  {
   "cell_type": "markdown",
   "metadata": {},
   "source": [
    "***\n",
    "### numpy.random.randint() Function\n",
    "\n",
    "numpy.random.randint(low, high=None, size=None, dtype='l')\n",
    "\n",
    "This function creates an array of random numbers between \"low\" and \"high\" from the the discrete uniform distribution. The discrete uniform distribution is also known as the \"equally likely outcomes\" distribution [4].\n",
    "\n",
    "The low and high parameters are know as the \"half-open\" interval i.e starting at and including \"low\" and up to but not including \"high\".\n",
    "\n",
    "If a \"low\" parameter is included and no \"high\" paramater is included, the function will return an array from 0 to \"low\".\n",
    "\n",
    "The size parameter is similar to the dimensions for the rand function. This defines the dimension of the returned array. If no size is specified, a single value is returned.\n",
    "\n",
    "The dtype is used to specify the output dtype (int or int64).\n",
    "\n"
   ]
  },
  {
   "cell_type": "code",
   "execution_count": 39,
   "metadata": {},
   "outputs": [
    {
     "data": {
      "text/plain": [
       "array([[1, 2, 2],\n",
       "       [1, 1, 2]])"
      ]
     },
     "execution_count": 39,
     "metadata": {},
     "output_type": "execute_result"
    }
   ],
   "source": [
    "np.random.randint(1,3,size=(2,3)) # Create an random integer array of 2 rows, 3 columns from 0 and up to/not including 3"
   ]
  },
  {
   "cell_type": "code",
   "execution_count": 40,
   "metadata": {},
   "outputs": [
    {
     "data": {
      "text/plain": [
       "array([[2, 1, 0],\n",
       "       [1, 1, 0]])"
      ]
     },
     "execution_count": 40,
     "metadata": {},
     "output_type": "execute_result"
    }
   ],
   "source": [
    "np.random.randint(3,size=(2,3)) # Create a random integer array of 2 rows, 3 columns from 0 and up to/not including 3"
   ]
  },
  {
   "cell_type": "code",
   "execution_count": 43,
   "metadata": {},
   "outputs": [
    {
     "data": {
      "text/plain": [
       "2"
      ]
     },
     "execution_count": 43,
     "metadata": {},
     "output_type": "execute_result"
    }
   ],
   "source": [
    "np.random.randint(0,5) # Create a random integer array of a single value from 0 and up to/not including 5"
   ]
  },
  {
   "cell_type": "markdown",
   "metadata": {},
   "source": [
    "#### Histogram of 10,000 ramdomly selected integers using randint function"
   ]
  },
  {
   "cell_type": "code",
   "execution_count": 7,
   "metadata": {},
   "outputs": [
    {
     "data": {
      "image/png": "[encoded data removed]",
      "text/plain": [
       "<Figure size 432x288 with 1 Axes>"
      ]
     },
     "metadata": {
      "needs_background": "light"
     },
     "output_type": "display_data"
    }
   ],
   "source": [
    "x = np.random.randint(0,5,size=10000) # Create  random integer array between [0,5) with 10000 elements\n",
    "plt.hist(x);  # Displays the \"equally likely outcomes\" distribution"
   ]
  },
  {
   "cell_type": "markdown",
   "metadata": {},
   "source": [
    "***\n",
    "### numpy.random.random_integers() Function\n",
    "numpy.random.random_integers(low, high=None, size=None)\n",
    "\n",
    "Very similar to numpy.random.randint() except the closed interval [low,high], both high and low are included. One difference being that if the high interval is not stated (default=None), 1 is assumed to be the low interval and the high interval is low i.e. [1, low].\n",
    "\n",
    "The size parameter is similar to the dimensions for the rand function. This defines the dimension of the returned array. If no size is specified, a single value is returned.\n",
    "\n",
    "Deprecated since version 1.11.0\n"
   ]
  },
  {
   "cell_type": "code",
   "execution_count": 14,
   "metadata": {},
   "outputs": [
    {
     "name": "stderr",
     "output_type": "stream",
     "text": [
      "/home/aido/anaconda3/lib/python3.7/site-packages/ipykernel_launcher.py:1: DeprecationWarning: This function is deprecated. Please call randint(1, 3 + 1) instead\n",
      "  \"\"\"Entry point for launching an IPython kernel.\n"
     ]
    },
    {
     "data": {
      "text/plain": [
       "array([[1, 2, 3],\n",
       "       [1, 3, 1]])"
      ]
     },
     "execution_count": 14,
     "metadata": {},
     "output_type": "execute_result"
    }
   ],
   "source": [
    "np.random.random_integers(1,3,size=(2,3)) # Create an random integer array of 2 rows, 3 columns from 1 and up to and including 3. As you can see in the output its deprecated"
   ]
  },
  {
   "cell_type": "code",
   "execution_count": 15,
   "metadata": {},
   "outputs": [
    {
     "name": "stderr",
     "output_type": "stream",
     "text": [
      "/home/aido/anaconda3/lib/python3.7/site-packages/ipykernel_launcher.py:1: DeprecationWarning: This function is deprecated. Please call randint(1, 3 + 1) instead\n",
      "  \"\"\"Entry point for launching an IPython kernel.\n"
     ]
    },
    {
     "data": {
      "text/plain": [
       "array([[2, 1, 3],\n",
       "       [1, 2, 2]])"
      ]
     },
     "execution_count": 15,
     "metadata": {},
     "output_type": "execute_result"
    }
   ],
   "source": [
    "np.random.random_integers(3,size=(2,3)) # Create a random integer array of 2 rows, 3 columns from 0 and up and including 3"
   ]
  },
  {
   "cell_type": "code",
   "execution_count": 16,
   "metadata": {},
   "outputs": [
    {
     "name": "stderr",
     "output_type": "stream",
     "text": [
      "/home/aido/anaconda3/lib/python3.7/site-packages/ipykernel_launcher.py:1: DeprecationWarning: This function is deprecated. Please call randint(0, 5 + 1) instead\n",
      "  \"\"\"Entry point for launching an IPython kernel.\n"
     ]
    },
    {
     "data": {
      "text/plain": [
       "4"
      ]
     },
     "execution_count": 16,
     "metadata": {},
     "output_type": "execute_result"
    }
   ],
   "source": [
    "np.random.random_integers(0,5) # Create a random integer array of a single value from 0 and up to and including 5"
   ]
  },
  {
   "cell_type": "markdown",
   "metadata": {},
   "source": [
    "#### Histogram of 10,000 randomly selected integers using the random_integers function"
   ]
  },
  {
   "cell_type": "code",
   "execution_count": 17,
   "metadata": {},
   "outputs": [
    {
     "name": "stderr",
     "output_type": "stream",
     "text": [
      "/home/aido/anaconda3/lib/python3.7/site-packages/ipykernel_launcher.py:1: DeprecationWarning: This function is deprecated. Please call randint(0, 5 + 1) instead\n",
      "  \"\"\"Entry point for launching an IPython kernel.\n"
     ]
    },
    {
     "data": {
      "image/png": "[encoded data removed]",
      "text/plain": [
       "<Figure size 432x288 with 1 Axes>"
      ]
     },
     "metadata": {
      "needs_background": "light"
     },
     "output_type": "display_data"
    }
   ],
   "source": [
    "x = np.random.random_integers(0,5,size=10000) # Create  random integer array between [0,5] with 10000 elements\n",
    "plt.hist(x);  # Displays the \"equally likely outcomes\" distribution"
   ]
  },
  {
   "cell_type": "markdown",
   "metadata": {},
   "source": [
    "***\n",
    "### numpy.random.random_sample() Function\n",
    "numpy.random.random_sample(size=None)\n",
    "\n",
    "This function returns an array of random floats from 0.0 (inclusive) up to but not including 1.0 i.e. the half-open interval [0.0, 1.0)\n",
    "\n",
    "The difference between numpy.random.random_sample and numpy.random.rand is that the size is a single tuple [5].\n",
    "\n",
    "Default for the size parameter is None i.e. a single value is returned."
   ]
  },
  {
   "cell_type": "code",
   "execution_count": 41,
   "metadata": {},
   "outputs": [
    {
     "data": {
      "text/plain": [
       "0.5628370508230315"
      ]
     },
     "execution_count": 41,
     "metadata": {},
     "output_type": "execute_result"
    }
   ],
   "source": [
    "np.random.random_sample() # Returns a single value"
   ]
  },
  {
   "cell_type": "code",
   "execution_count": 44,
   "metadata": {},
   "outputs": [
    {
     "data": {
      "text/plain": [
       "array([0.22407586, 0.2543032 , 0.74716408, 0.51716461, 0.4229492 ,\n",
       "       0.83715913, 0.06783667, 0.86681628, 0.51911615, 0.67111742])"
      ]
     },
     "execution_count": 44,
     "metadata": {},
     "output_type": "execute_result"
    }
   ],
   "source": [
    "np.random.random_sample(10) # Returns an array of 10 random floats [0.0, 1.0)"
   ]
  },
  {
   "cell_type": "code",
   "execution_count": 46,
   "metadata": {},
   "outputs": [
    {
     "data": {
      "text/plain": [
       "array([[0.08043098, 0.13980285],\n",
       "       [0.18654549, 0.83439044],\n",
       "       [0.85212962, 0.51462747]])"
      ]
     },
     "execution_count": 46,
     "metadata": {},
     "output_type": "execute_result"
    }
   ],
   "source": [
    "np.random.random_sample((3,2)) # Returns an array with 3 rows of 2 columns"
   ]
  },
  {
   "cell_type": "markdown",
   "metadata": {},
   "source": [
    "#### Histograms of 10,000 ramdomly selected floats"
   ]
  },
  {
   "cell_type": "code",
   "execution_count": 47,
   "metadata": {},
   "outputs": [
    {
     "data": {
      "image/png": "[encoded data removed]",
      "text/plain": [
       "<Figure size 432x288 with 1 Axes>"
      ]
     },
     "metadata": {
      "needs_background": "light"
     },
     "output_type": "display_data"
    }
   ],
   "source": [
    "x = np.random.random_sample(10000) # Creates an array x with 10,000 values\n",
    "plt.hist(x); # Plot a histogram of x. An even distribution just like numpy.random.rand() function"
   ]
  },
  {
   "cell_type": "code",
   "execution_count": 50,
   "metadata": {},
   "outputs": [
    {
     "data": {
      "image/png": "[encoded data removed]",
      "text/plain": [
       "<Figure size 432x288 with 1 Axes>"
      ]
     },
     "metadata": {
      "needs_background": "light"
     },
     "output_type": "display_data"
    }
   ],
   "source": [
    "x = 2*np.random.random_sample(10000) + 1  # This creates an array x with 10,000 samples between [1, 3) [6]\n",
    "plt.hist(x); # Again we see an even distribution but this time between [1, 3)"
   ]
  },
  {
   "cell_type": "markdown",
   "metadata": {},
   "source": [
    "***\n",
    "### numpy.random.random(), numpy.random.ranf() and numpy.random.sample() Functions\n",
    "numpy.random.random(size=None), numpy.random.ranf(size=None) and numpy.random.sample(size=None)\n",
    "\n",
    "These functions are an alias of numpy.random.random_sample and have the exact same usage [5]."
   ]
  },
  {
   "cell_type": "markdown",
   "metadata": {},
   "source": [
    "***\n",
    "### numpy.random.choice() Function\n",
    "numpy.random.choice(a, size=None, replace=True, p=None)\n",
    "\n",
    "This function from a given parameter 'a'. If 'a' is an ndarray, the function returns a random sample of that array.If 'a' is an integer, the random sample is taken from np.arange(a).\n",
    "\n",
    "The size parameter is the desired array output shape. If no size is given, none is assumed and a single value is returned.\n",
    "\n",
    "The replace parameter is used if you want the selected number to be used again i.e. replace = True, the choice can be sampled again, replace=False, the samples will be unique. [7]\n",
    "\n",
    "The p paramter is an array of probabilities associated with each entry in the array a. If not specified the sample assumes a uniform distribution.\n"
   ]
  },
  {
   "cell_type": "code",
   "execution_count": 39,
   "metadata": {},
   "outputs": [
    {
     "name": "stdout",
     "output_type": "stream",
     "text": [
      "[4 1]\n",
      "[9 9 4]\n",
      "5\n",
      "[[7 2 2]\n",
      " [5 9 7]]\n",
      "[0 1 1 2 1]\n",
      "[0 4 1]\n"
     ]
    },
    {
     "data": {
      "image/png": "[encoded data removed]",
      "text/plain": [
       "<Figure size 432x288 with 1 Axes>"
      ]
     },
     "metadata": {
      "needs_background": "light"
     },
     "output_type": "display_data"
    }
   ],
   "source": [
    "a = np.arange(5)\n",
    "print(np.random.choice(a,2)) # 2 samples from ndarray a\n",
    "print(np.random.choice(10,3)) # 3 samples from np.arange(10)\n",
    "print(np.random.choice(10)) # 1 sample from np.arange(10)\n",
    "print(np.random.choice(10,(2,3))) # 2 rows of 3 samples from np.arange(10)\n",
    "print(np.random.choice(3,5,replace=True)) # 5 samples of np.arange(3)\n",
    "print(np.random.choice(5,3,replace=False)) \n",
    "# print(np.random.choice(3,5,replace=False)) # This throws an error as there are not enough unique samples\n",
    "x = np.random.choice(100000,100000)\n",
    "plt.hist(x); # uniform distribution over 100,000 samples\n"
   ]
  },
  {
   "cell_type": "code",
   "execution_count": 40,
   "metadata": {},
   "outputs": [
    {
     "data": {
      "image/png": "[encoded data removed]",
      "text/plain": [
       "<Figure size 432x288 with 1 Axes>"
      ]
     },
     "metadata": {
      "needs_background": "light"
     },
     "output_type": "display_data"
    }
   ],
   "source": [
    "x = np.random.choice(10, 10, p=[0.05, 0, 0.3, 0.59, 0.01, 0.01, 0.01, 0.01, 0.01, 0.01]) # returns 10 samples from arange(10) with probabilities p\n",
    "plt.hist(x); # As you can see, a non uniform distribution is returned due to probabilities"
   ]
  },
  {
   "cell_type": "markdown",
   "metadata": {},
   "source": [
    "***\n",
    "### numpy.random.bytes() Function\n",
    "\n",
    "numpy.random.bytes(length)\n",
    "\n",
    "This function returns random bytes with a specified length."
   ]
  },
  {
   "cell_type": "code",
   "execution_count": 53,
   "metadata": {},
   "outputs": [
    {
     "data": {
      "text/plain": [
       "b'>5\\xee\\xa5\\xb5'"
      ]
     },
     "execution_count": 53,
     "metadata": {},
     "output_type": "execute_result"
    }
   ],
   "source": [
    "np.random.bytes(5)"
   ]
  },
  {
   "cell_type": "markdown",
   "metadata": {},
   "source": [
    "***\n",
    "## Permutations Function\n",
    "\n",
    "### numpy.random.shuffle() Function\n",
    "\n",
    "numpy.random.shuffle(x)\n",
    "\n",
    "This function shuffles an array 'x'. For a multi-dimensional array only the first axis is shuffled. The contents of sub-arrays of a multi-dimensional array are not shuffled.\n",
    "\n",
    "The array is shuffled in-place i.e. the original array is returned/replaced but with its contents shuffled."
   ]
  },
  {
   "cell_type": "code",
   "execution_count": 13,
   "metadata": {},
   "outputs": [
    {
     "data": {
      "text/plain": [
       "array([3, 9, 1, 0, 8, 7, 2, 6, 4, 5])"
      ]
     },
     "execution_count": 13,
     "metadata": {},
     "output_type": "execute_result"
    }
   ],
   "source": [
    "x = np.arange(10) # Create an array\n",
    "np.random.shuffle(x) # shuffle it\n",
    "x"
   ]
  },
  {
   "cell_type": "code",
   "execution_count": 22,
   "metadata": {},
   "outputs": [
    {
     "name": "stdout",
     "output_type": "stream",
     "text": [
      "[[-1.96983415 -0.24915518 -0.06240847  0.48417524]\n",
      " [-0.46699867 -0.16421834 -0.11360587 -0.92176196]\n",
      " [-0.09003414 -0.22056382 -0.62801839 -0.56965593]]\n"
     ]
    },
    {
     "data": {
      "text/plain": [
       "array([[-0.46699867, -0.16421834, -0.11360587, -0.92176196],\n",
       "       [-0.09003414, -0.22056382, -0.62801839, -0.56965593],\n",
       "       [-1.96983415, -0.24915518, -0.06240847,  0.48417524]])"
      ]
     },
     "execution_count": 22,
     "metadata": {},
     "output_type": "execute_result"
    }
   ],
   "source": [
    "x = np.random.randn(3,4) # Create 3*4 array\n",
    "print(x)\n",
    "np.random.shuffle(x) # shuffle it\n",
    "x # we can see that the sub arrays are not changed."
   ]
  },
  {
   "cell_type": "markdown",
   "metadata": {},
   "source": [
    "***\n",
    "### numpy.random.permutation() Function\n",
    "numpy.random.permutation(x)\n",
    "\n",
    "This function randomly permutes 'x' where x can be an array or an integer. If 'x' is an integer  the funtion permutes np.arange(x).\n",
    "\n",
    "For a multi-dimensional array only the first axis is shuffled. The contents of sub-arrays of a multi-dimensional array are not shuffled.\n",
    "\n",
    "The contents of the original array is unchanged."
   ]
  },
  {
   "cell_type": "code",
   "execution_count": 23,
   "metadata": {},
   "outputs": [
    {
     "data": {
      "text/plain": [
       "array([9, 1, 0, 4, 6, 5, 3, 2, 8, 7])"
      ]
     },
     "execution_count": 23,
     "metadata": {},
     "output_type": "execute_result"
    }
   ],
   "source": [
    "np.random.permutation(10) # permute arange(10)"
   ]
  },
  {
   "cell_type": "code",
   "execution_count": 12,
   "metadata": {},
   "outputs": [
    {
     "name": "stdout",
     "output_type": "stream",
     "text": [
      "[5 3 4 7 6 8 9 2 1 0]\n"
     ]
    },
    {
     "data": {
      "text/plain": [
       "array([0, 1, 2, 3, 4, 5, 6, 7, 8, 9])"
      ]
     },
     "execution_count": 12,
     "metadata": {},
     "output_type": "execute_result"
    }
   ],
   "source": [
    "x = np.arange(10) # Create an array\n",
    "print(np.random.permutation(x)) # permute the array\n",
    "x # original array is unchanged"
   ]
  },
  {
   "cell_type": "code",
   "execution_count": 15,
   "metadata": {},
   "outputs": [
    {
     "name": "stdout",
     "output_type": "stream",
     "text": [
      "[[ 1.2616859   0.41765968]\n",
      " [ 0.89395769  0.04735517]\n",
      " [-0.60842552 -0.26854813]\n",
      " [-0.66630197 -0.34401183]]\n",
      "[[ 1.2616859   0.41765968]\n",
      " [ 0.89395769  0.04735517]\n",
      " [-0.60842552 -0.26854813]\n",
      " [-0.66630197 -0.34401183]]\n"
     ]
    },
    {
     "data": {
      "text/plain": [
       "array([[-0.60842552, -0.26854813],\n",
       "       [ 1.2616859 ,  0.41765968],\n",
       "       [ 0.89395769,  0.04735517],\n",
       "       [-0.66630197, -0.34401183]])"
      ]
     },
     "execution_count": 15,
     "metadata": {},
     "output_type": "execute_result"
    }
   ],
   "source": [
    "x = np.random.randn(4,2) # Create a 4*2 array of random numbers\n",
    "print(x) # print the array\n",
    "y = np.random.permutation(x) # permute the array and assign to y\n",
    "print(x) # x has not changed\n",
    "y # the permuted array"
   ]
  },
  {
   "cell_type": "markdown",
   "metadata": {},
   "source": [
    "***\n",
    "## A Sampling of Distribution Functions from the np.random package\n",
    "\n",
    "### numpy.random.binomial() Function\n",
    "numpy.random.binomial(n, p, size=None)\n",
    "\n",
    "This function draws samples from the binomial distribution, where 'n' is the number of trials and 'p' is the probability of success. 'n' must be >= 0 and 'p' is in the interval [0,1] i.e. >=0 and <=1.\n",
    "\n",
    "The size parameter is the desired array output shape. If no size is given, none is assumed and a single value is returned.\n",
    "\n",
    "The probability density for the binomial distribution is: $$ P(N)  = \\binom{n}{N}p^N(1-p)^{n-N} $$ where n is the number of trials, p is the probability of success and N is the number of successes. [8]"
   ]
  },
  {
   "cell_type": "code",
   "execution_count": 66,
   "metadata": {},
   "outputs": [
    {
     "data": {
      "text/plain": [
       "2"
      ]
     },
     "execution_count": 66,
     "metadata": {},
     "output_type": "execute_result"
    }
   ],
   "source": [
    "n, p = 10, 0.5 # 10 coin tosses with probablilty of success 0.5.\n",
    "np.random.binomial(n,p) # returns a single value"
   ]
  },
  {
   "cell_type": "code",
   "execution_count": 75,
   "metadata": {},
   "outputs": [
    {
     "data": {
      "image/png": "[encoded data removed]",
      "text/plain": [
       "<Figure size 432x288 with 1 Axes>"
      ]
     },
     "metadata": {
      "needs_background": "light"
     },
     "output_type": "display_data"
    }
   ],
   "source": [
    "n, p = 10, 0.5 # 10 coin tosses with probablilty of success 0.5.\n",
    "x = np.random.binomial(n,p,1000) # returns 1000 values\n",
    "plt.hist(x); # plot histogram of x"
   ]
  },
  {
   "cell_type": "code",
   "execution_count": 103,
   "metadata": {},
   "outputs": [
    {
     "name": "stdout",
     "output_type": "stream",
     "text": [
      "Percentage of times your number does not hit in 50 spins of the wheel : 24.9%\n"
     ]
    },
    {
     "data": {
      "image/png": "[encoded data removed]",
      "text/plain": [
       "<Figure size 432x288 with 1 Axes>"
      ]
     },
     "metadata": {},
     "output_type": "display_data"
    }
   ],
   "source": [
    "n, p = 50, .027 # 50 spins of a roulette wheel with 1/37 (0.027) chance of hitting your number (paying 35/1)\n",
    "s = np.random.binomial(n, p, 1000) # 1000 samples of 50 spins of the wheel\n",
    "result = (sum(np.random.binomial(n, p, 1000) == 0)/1000)*100 # percentage of times where your number doesnt hit in 50 spins of the wheel\n",
    "print('Percentage of times your number does not hit in 50 spins of the wheel : ' + str(result) + '%')\n",
    "plt.title('Roulette: 1000 samples of 50 spins, selecting one number.') # add a title to plot\n",
    "plt.xlabel('Number of hits in 50 spins') # add a label on the x-axis\n",
    "plt.hist(s); #plot histogram of s"
   ]
  },
  {
   "cell_type": "markdown",
   "metadata": {},
   "source": [
    "***\n",
    "### numpy.random.chisquare() Function\n",
    "\n",
    "numpy.random.chisquare(df, size=None)\n",
    "\n",
    "This function draw samples from a chi-square distribution.\n",
    "\n",
    "The chi squared distribution is a continuous probability distribution that is widely used in statistical inference.\n",
    "\n",
    "The df parameter is the number of degress of freedom. If size parameter is None, a single value is returned. Otherwise the the size is the shape of the output array. Chi squared deals with one set variable with different degrees of freedom.\n",
    "\n",
    "The variable obtained by summing the squares of df independent, standard normally distributed random variables:\n",
    "$$ Q = \\sum_{i=0}^{\\mathtt{df}} X^2_i$$\n",
    "\n",
    "is chi-square distributed, denoted :\n",
    "$$ Q \\sim \\chi^2_k $$ \n",
    "\n",
    "The probability density function of the chi-squared distribution is :\n",
    "$$  p(x) = \\frac{(1/2)^{k/2}}{\\Gamma(k/2)}\n",
    "x^{k/2 - 1} e^{-x/2} $$\n",
    "\n",
    "where $$ \\Gamma $$is the Gamma function. $$ \\Gamma(x) = \\int_0^{-\\infty} t^{x - 1} e^{-t} dt. $$\n",
    "\n",
    "The chi-squared test is used to determine whether there is a significant difference between the expected frequencies and the observed frequencies in one or more categories i.e. can be used to test a null hypothesis (Expected values) against observed values. [12]"
   ]
  },
  {
   "cell_type": "code",
   "execution_count": 11,
   "metadata": {},
   "outputs": [
    {
     "data": {
      "image/png": "[encoded data removed]",
      "text/plain": [
       "<Figure size 720x720 with 4 Axes>"
      ]
     },
     "metadata": {},
     "output_type": "display_data"
    }
   ],
   "source": [
    "import seaborn as sns\n",
    "sns.set(style=\"darkgrid\") # set dark grid style\n",
    "fig, axes = plt.subplots(2, 2,figsize=[10,10]) # Adapted from https://stackoverflow.com/a/31597278. Create a figure/axes with 4 subplots\n",
    "fig.suptitle('Chi Squared Distribution with k degrees of freedom  1, 3, 6 and 9') # Set a figure title\n",
    "s1 = np.random.chisquare(1,100000) # Array of 100000, with 1 degree of freedom\n",
    "sns.distplot(s1,hist=False,ax=axes[0,0]) # dist plot s1 on axes[0,0]\n",
    "axes[0,0].title.set_text('k = 1') # Adapted from https://stackoverflow.com/a/39133654 . Set text on subplot.\n",
    "s2 = np.random.chisquare(3,100000) # Array of 100000, with 3 degrees of freedom\n",
    "sns.distplot(s2,hist=False,ax=axes[0,1]) # dist plot s2 on axes[0,1]\n",
    "axes[0,1].title.set_text('k = 3') # Set text on subplot.\n",
    "s3 = np.random.chisquare(6,100000)   # Array of 100000, with 6 degrees of freedom\n",
    "sns.distplot(s3,hist=False,ax=axes[1,0])  # dist plot s3 on axes[1,0]\n",
    "axes[1,0].title.set_text('k = 6')  # Set text on subplot.\n",
    "s4 = np.random.chisquare(12,100000) # Array of 100000, with 12 degrees of freedom\n",
    "sns.distplot(s4,hist=False,ax=axes[1,1])  # dist plot s4 on axes[1,1]\n",
    "axes[1,1].title.set_text('k = 12'); # Set text on subplot."
   ]
  },
  {
   "cell_type": "markdown",
   "metadata": {},
   "source": [
    "***\n",
    "### numpy.random.f() Function\n",
    "numpy.random.f(dfnum, dfden, size=None)\n",
    "\n",
    "Samples are drawn from an F distribution with specified parameters, dfnum (degrees of freedom in numerator) and dfden (degrees of freedom in denominator), where both parameters should be greater than zero.\n",
    "\n",
    "If size is None, a single value is returned. Otherwise the the size is the shape of the output array.\n",
    "\n",
    "Also known as the Fisher-Snedecor distribution (after R.A. Fisher and George W. Snedecor). The F distribution is the distribution of ratios of two independent estimators of the population variances. [9]\n",
    "\n",
    "It can be used to determine if the pattern you identify in data is significantly different than no pattern at all.Like the Chi squared distribution it is right skewed (mean > median). [10] [13] The F function deals with multiple variables with different degrees of freedom. \n",
    "\n"
   ]
  },
  {
   "cell_type": "code",
   "execution_count": 6,
   "metadata": {},
   "outputs": [
    {
     "data": {
      "image/png": "[encoded data removed]",
      "text/plain": [
       "<Figure size 720x720 with 4 Axes>"
      ]
     },
     "metadata": {},
     "output_type": "display_data"
    }
   ],
   "source": [
    "fig, axes = plt.subplots(2, 2,figsize=[10,10]) # Adapted from https://stackoverflow.com/a/31597278\n",
    "fig.suptitle('F Distribution with d1 and d2 degrees of freedom') # add a figure title\n",
    "s1 = np.random.f(10, 10, 100000) # draw 100000 samples from f distribution with numerator df 10, denominator df 10\n",
    "sns.distplot(s1,hist=False,ax=axes[0,0]) # distplot for s1 on axes 0,0\n",
    "axes[0,0].title.set_text('d1 = 10, d2 = 10') # add a text to the subplot\n",
    "s2 = np.random.f(100,100, 100000) \n",
    "sns.distplot(s2,hist=False,ax=axes[0,1])\n",
    "axes[0,1].title.set_text('d1 = 100, d2 = 100')\n",
    "s3 = np.random.f(20,5, 100000)\n",
    "sns.distplot(s3,hist=False,ax=axes[1,0])\n",
    "axes[1,0].title.set_text('d1 = 20, d2 = 5')\n",
    "s4 = np.random.f(50,20, 100000)\n",
    "sns.distplot(s4,hist=False,ax=axes[1,1])\n",
    "axes[1,1].title.set_text('d1 = 50, d2 = 20');"
   ]
  },
  {
   "cell_type": "markdown",
   "metadata": {},
   "source": [
    "***\n",
    "### numpy.random.standard_gamma() Function\n",
    "\n",
    "numpy.random.standard_gamma(shape, size=None)\n",
    "\n",
    "Draw samples from a standard gamma distribution (scale = 1).\n",
    "\n",
    "The shape parameter (also known as k), is the shape of the gamma distribution and must be greater than zero.\n",
    "\n",
    "The size parameter is used to decide the output shape.If size equals None (default), a single value is returned if shape and scale are both scalars.\n",
    "\n",
    "\n",
    "The gamma function was introduced by the famous mathematician L. Euler (1729) as a natural extension of the factorial operation from positive integers to real and even complex values. [14]\n",
    "\n",
    "The gamma distribution is stated in terms of the gamma function. This distribution can be used to model the interval of time between earthquakes or failure times components. [15]"
   ]
  },
  {
   "cell_type": "code",
   "execution_count": 24,
   "metadata": {},
   "outputs": [
    {
     "data": {
      "text/plain": [
       "array([0.4396775 , 0.5347468 , 1.05640413, 0.39951532, 0.22293788,\n",
       "       2.23493769, 1.15340578, 0.7582749 , 0.17490983, 1.31548982])"
      ]
     },
     "execution_count": 24,
     "metadata": {},
     "output_type": "execute_result"
    }
   ],
   "source": [
    "np.random.standard_gamma(1,10) # returns 10 values with shape 1"
   ]
  },
  {
   "cell_type": "code",
   "execution_count": 26,
   "metadata": {},
   "outputs": [
    {
     "data": {
      "text/plain": [
       "array([4.10037926, 3.06203091, 1.60404539, 0.56395279, 1.13509254,\n",
       "       3.924414  , 1.13173154, 1.57135848, 0.38920448, 1.65300864])"
      ]
     },
     "execution_count": 26,
     "metadata": {},
     "output_type": "execute_result"
    }
   ],
   "source": [
    "np.random.standard_gamma(2,10) # returns 10 values with shape 2"
   ]
  },
  {
   "cell_type": "code",
   "execution_count": 27,
   "metadata": {},
   "outputs": [
    {
     "data": {
      "text/plain": [
       "array([[0.56476584, 1.13330125],\n",
       "       [2.75217443, 3.88856923],\n",
       "       [2.44986366, 2.36389389]])"
      ]
     },
     "execution_count": 27,
     "metadata": {},
     "output_type": "execute_result"
    }
   ],
   "source": [
    "np.random.standard_gamma(2,(3,2)) # returns 3x2 values with shape 2"
   ]
  },
  {
   "cell_type": "code",
   "execution_count": 28,
   "metadata": {},
   "outputs": [
    {
     "data": {
      "text/plain": [
       "array([[[1.52039868, 1.98919285, 3.76250443, 1.3488505 ],\n",
       "        [0.29503895, 1.31380849, 2.0473592 , 0.45769451]],\n",
       "\n",
       "       [[3.75837259, 2.27199701, 1.6756169 , 1.7614637 ],\n",
       "        [2.15355045, 2.74462609, 1.25987182, 1.51729684]],\n",
       "\n",
       "       [[3.3648579 , 0.86505335, 0.73304666, 0.87625005],\n",
       "        [4.53158984, 0.91201463, 0.76928169, 2.94461717]]])"
      ]
     },
     "execution_count": 28,
     "metadata": {},
     "output_type": "execute_result"
    }
   ],
   "source": [
    "np.random.standard_gamma(2,(3,2,4)) # returns 3x2x4 values with shape 2"
   ]
  },
  {
   "cell_type": "code",
   "execution_count": 29,
   "metadata": {},
   "outputs": [
    {
     "data": {
      "text/plain": [
       "2.5454722788201325"
      ]
     },
     "execution_count": 29,
     "metadata": {},
     "output_type": "execute_result"
    }
   ],
   "source": [
    "np.random.standard_gamma(3) # returns 1 values with shape 3"
   ]
  },
  {
   "cell_type": "markdown",
   "metadata": {},
   "source": [
    "***\n",
    "### numpy.random.gamma() Function\n",
    "\n",
    "numpy.random.gamma(shape, scale=1.0, size=None)\n",
    "\n",
    "This function draws samples from the Gamma Distribution. Similar to the standard_gamma function (scale = 1) but we can specify the scale  \"theta\" parameter.\n",
    "\n",
    "The shape parameter (also known as k), is the shape of the gamma distribution and must be greater than zero. \n",
    "\n",
    "The scale parameter (also known as \"theta\"), is the scale of the gamma distribution and should be greater than zero. The default is 1.\n",
    "\n",
    "The size parameter is used to decide the output shape.If size equals None (default), a single value is returned if shape and scale are both scalars.\n",
    "\n"
   ]
  },
  {
   "cell_type": "code",
   "execution_count": 19,
   "metadata": {},
   "outputs": [
    {
     "data": {
      "text/plain": [
       "array([0.26384028, 2.43147083, 0.04731466, 0.75663473, 1.83586503,\n",
       "       1.16726224, 1.35505237, 0.07860841, 0.92924576, 1.3735718 ])"
      ]
     },
     "execution_count": 19,
     "metadata": {},
     "output_type": "execute_result"
    }
   ],
   "source": [
    "np.random.gamma(1,1,10) # returns 10 values"
   ]
  },
  {
   "cell_type": "code",
   "execution_count": 20,
   "metadata": {},
   "outputs": [
    {
     "data": {
      "text/plain": [
       "array([[2.02232534, 0.60678238],\n",
       "       [0.43103037, 0.78087173],\n",
       "       [0.69193803, 0.02207584],\n",
       "       [0.75667113, 0.46505628],\n",
       "       [0.93899085, 2.36696647],\n",
       "       [5.37316672, 1.04985999],\n",
       "       [1.10821606, 0.79631378],\n",
       "       [0.45068473, 0.39898503],\n",
       "       [1.87733315, 0.12102597],\n",
       "       [0.03896872, 0.05427303]])"
      ]
     },
     "execution_count": 20,
     "metadata": {},
     "output_type": "execute_result"
    }
   ],
   "source": [
    "np.random.gamma(1,1,(10,2)) # returns 10 x 2  values"
   ]
  },
  {
   "cell_type": "code",
   "execution_count": 21,
   "metadata": {},
   "outputs": [
    {
     "data": {
      "text/plain": [
       "array([[[0.02083927, 2.23456169, 0.85807367, 1.62762304],\n",
       "        [1.52081579, 0.41593756, 2.64216269, 0.39607169]],\n",
       "\n",
       "       [[4.41511708, 1.80691246, 2.26783775, 0.1300933 ],\n",
       "        [1.74775601, 1.17913503, 0.12429551, 1.30656432]],\n",
       "\n",
       "       [[5.13802133, 0.08550181, 0.54595881, 0.05956301],\n",
       "        [1.36185519, 0.91239355, 1.07876771, 1.10051329]]])"
      ]
     },
     "execution_count": 21,
     "metadata": {},
     "output_type": "execute_result"
    }
   ],
   "source": [
    "np.random.gamma(1,1,(3,2,4)) # returns 3x2x4 values"
   ]
  },
  {
   "cell_type": "code",
   "execution_count": 23,
   "metadata": {},
   "outputs": [
    {
     "data": {
      "text/plain": [
       "61.43248988774687"
      ]
     },
     "execution_count": 23,
     "metadata": {},
     "output_type": "execute_result"
    }
   ],
   "source": [
    "np.random.gamma(10,5) # returns 1 value with shape (k) equal 10 and thetea scale equals 5"
   ]
  },
  {
   "cell_type": "markdown",
   "metadata": {},
   "source": [
    "***\n",
    "### numpy.random.normal() Function\n",
    "\n",
    "numpy.random.normal(loc=0.0, scale=1.0, size=None)\n",
    "\n",
    "This function draws random samples from the normal (Gaussian) distribution.\n",
    "\n",
    "The probability density function of the normal distribution, is often called the bell curve because of its characteristic shape.\n",
    "\n",
    "The loc parameter is where the mean/centre should be.Default is at 0.\n",
    "\n",
    "The scale parameter is the standard deviation.\n",
    "\n",
    "The size parameter is the shape of the output. If size is None (default), a single value is returned if loc and scale are both scalars.\n"
   ]
  },
  {
   "cell_type": "code",
   "execution_count": 4,
   "metadata": {},
   "outputs": [
    {
     "data": {
      "text/plain": [
       "0.407753695161164"
      ]
     },
     "execution_count": 4,
     "metadata": {},
     "output_type": "execute_result"
    }
   ],
   "source": [
    "np.random.normal() # 1 sample with loc equals zero and scale equals 1"
   ]
  },
  {
   "cell_type": "code",
   "execution_count": 9,
   "metadata": {},
   "outputs": [
    {
     "data": {
      "text/plain": [
       "array([-0.14484623, -1.27315427, -0.89832365,  0.04719464,  1.96820458,\n",
       "        1.02633257,  1.87541732, -1.29651349, -0.39775609, -1.08673432])"
      ]
     },
     "execution_count": 9,
     "metadata": {},
     "output_type": "execute_result"
    }
   ],
   "source": [
    "np.random.normal(0,1,10) # 10 samples with loc equals zero and scale equals 1"
   ]
  },
  {
   "cell_type": "code",
   "execution_count": 42,
   "metadata": {},
   "outputs": [
    {
     "data": {
      "image/png": "[encoded data removed]",
      "text/plain": [
       "<Figure size 720x720 with 1 Axes>"
      ]
     },
     "metadata": {},
     "output_type": "display_data"
    }
   ],
   "source": [
    "fig, ax = plt.subplots(figsize=[10,10]) # Adapted from https://stackoverflow.com/a/31597278\n",
    "s1 = np.random.normal(0,1,10000) # Draw 10000 samples with mean 0 and scale/standard devaition 1. Adapted from https://python-graph-gallery.com/25-histogram-with-several-variables-seaborn/\n",
    "plt.title(\"Normal distribution for different $\\mu$ and $\\sigma$\") # Verbatim from PDA video on bias\n",
    "sns.distplot(s1,color=\"blue\",label=\"$\\mu = 0.0, \\sigma = 1.0$\",hist=False) #  Distribution plot, showing mean 0 and SD of 1.\n",
    "s2 = np.random.normal(2,1,10000) # Draw 10000 samples with mean 2 and scale/standard devaition 1.\n",
    "sns.distplot(s2,color=\"red\",label=\"$\\mu = 2.0, \\sigma = 1.0$\",hist=False); #  Distribution plot, showing mean 2 and SD of 1.\n",
    "s3 = np.random.normal(0,3,10000) # Draw 10000 samples with mean 0 and scale/standard devaition 3.\n",
    "sns.distplot(s3,color=\"green\",label=\"$\\mu = 0.0, \\sigma = 3.0$\",hist=False) #  Distribution plot, showing mean 0 and SD of 3.\n",
    "plt.legend() # Adapted from https://stackoverflow.com/a/44969103\n",
    "# Get the three lines from the axes to generate shading\n",
    "l1 = ax.lines[0]  # Adapted from https://stackoverflow.com/a/47645844\n",
    "l2 = ax.lines[1]\n",
    "l3 = ax.lines[2]\n",
    "## Get the xy data from the lines so that we can shade\n",
    "x1 = l1.get_xydata()[:,0]\n",
    "y1 = l1.get_xydata()[:,1]\n",
    "x2 = l2.get_xydata()[:,0]\n",
    "y2 = l2.get_xydata()[:,1]\n",
    "x3 = l3.get_xydata()[:,0]\n",
    "y3 = l3.get_xydata()[:,1]\n",
    "# Fill the area\n",
    "ax.fill_between(x1,y1, color=\"blue\", alpha=0.3)\n",
    "ax.fill_between(x2,y2, color=\"red\", alpha=0.3)\n",
    "ax.fill_between(x3,y3, color=\"green\", alpha=0.3);\n"
   ]
  },
  {
   "cell_type": "markdown",
   "metadata": {},
   "source": [
    "***\n",
    "### numpy.random.poisson() Function\n",
    "\n",
    "numpy.random.poisson(lam=1.0, size=None)\n",
    "\n",
    "This function draws samples from the Poisson distribution.\n",
    "\n",
    "the lam parameter (lambda or expectation of interval) must be >= 0. The default is 1.\n",
    "\n",
    "The size parameter is the desired output shape.The default is None i.e. a single value is returned."
   ]
  },
  {
   "cell_type": "code",
   "execution_count": 48,
   "metadata": {},
   "outputs": [
    {
     "data": {
      "text/plain": [
       "array([0, 1, 1, 0, 1])"
      ]
     },
     "execution_count": 48,
     "metadata": {},
     "output_type": "execute_result"
    }
   ],
   "source": [
    "np.random.poisson(1,5) #  draws 5 samples with lambda = 1"
   ]
  },
  {
   "cell_type": "code",
   "execution_count": 49,
   "metadata": {},
   "outputs": [
    {
     "data": {
      "text/plain": [
       "array([[1, 0, 1],\n",
       "       [1, 1, 1]])"
      ]
     },
     "execution_count": 49,
     "metadata": {},
     "output_type": "execute_result"
    }
   ],
   "source": [
    "np.random.poisson(1,(2,3)) #  draws 2*3 samples with lambda = 1"
   ]
  },
  {
   "cell_type": "code",
   "execution_count": 52,
   "metadata": {},
   "outputs": [
    {
     "data": {
      "text/plain": [
       "array([4, 1, 4, 4, 2, 2, 4, 2, 4, 3])"
      ]
     },
     "execution_count": 52,
     "metadata": {},
     "output_type": "execute_result"
    }
   ],
   "source": [
    "np.random.poisson(3,10) #  draws 10 samples with lambda = 3"
   ]
  },
  {
   "cell_type": "code",
   "execution_count": 55,
   "metadata": {},
   "outputs": [
    {
     "data": {
      "image/png": "[encoded data removed]",
      "text/plain": [
       "<Figure size 432x288 with 1 Axes>"
      ]
     },
     "metadata": {},
     "output_type": "display_data"
    }
   ],
   "source": [
    "s = np.random.poisson(5,10000) #  draws 10000 samples with lambda = 3\n",
    "sns.distplot(s,hist=False);"
   ]
  },
  {
   "cell_type": "markdown",
   "metadata": {},
   "source": [
    "***\n",
    "## Seeds in Generating Pseudorandom Numbers\n",
    "\n",
    "Random numbers are not actually that random, they are pseudo-random and are generated by algorithms. [16] The seed is the starting point for the random number generation.\n",
    "\n",
    "A Pseudo Random Number Generator(PRNG) refers to an algorithm that uses mathematical formulas to produce sequences of random numbers. PRNGs generate a sequence of numbers approximating the properties of random numbers. A PRNG starts from an arbitrary starting state using a seed state. Many numbers are generated in a short time and can also be reproduced later, if the starting point in the sequence is known. Hence, the numbers are deterministic and efficient.[17]\n",
    "\n",
    "The need for PRNGs stems from the fact that computers follow instructions and can not do things randomly.\n",
    "\n",
    "Numpy uses the Mersenne-Twister by Matsumoto and Nishimura.\n",
    "\n",
    "Seeds are usually generated from a computers system clock. Depending on the Operating system, the system time is counted in seconds(nano)   from a certain time.  Unix uses  epoch time 00:00:00 UTC on 1 January 1970 and Windows uses 00:00:00 UTC on 1 January 1970. [17]\n",
    "\n",
    "This gives a very large range of numbers for seeding, so its unlikely the same seed would be re-used. [19]"
   ]
  },
  {
   "cell_type": "code",
   "execution_count": 10,
   "metadata": {},
   "outputs": [
    {
     "data": {
      "text/plain": [
       "('MT19937', array([        10,  944463347, 2695371745, 3765730194, 1896634681,\n",
       "        1176906525,  400883218, 2211307297,  177718231, 1955549916,\n",
       "         804189755, 1789507666, 4141818827,  715597301, 2901743287,\n",
       "        1623970424,  291228365,    5879794, 1182012556, 4138111156,\n",
       "        2620000071, 1767623502, 2486009153, 2127578758, 1603998299,\n",
       "         762734491, 2254820161, 2400203914, 3979968964, 3734287008,\n",
       "         179877229,   99739936, 2920487360, 1923087275, 1886536756,\n",
       "        3171436044, 3559072170, 3061758162, 2660645430, 2111228587,\n",
       "        3671650106,  103473830, 2629845416, 1050927677, 1449518909,\n",
       "        1100437209, 1578556262, 3460280018, 1734660517, 2859694565,\n",
       "        3575428949, 3184220961, 4143296515, 3122556981, 4254119145,\n",
       "         625908361, 3463792965, 3244711639,  502193630, 1561024209,\n",
       "        3869151308,  502412904, 3431276358, 3844359032, 2345169607,\n",
       "        2867049722, 3665239578, 1321812256, 2099796809, 3636300717,\n",
       "         743061996, 1471948387, 2993919730, 2750479609, 1951605329,\n",
       "         307845595, 3881019059, 3607425981, 1301731396, 1545814152,\n",
       "        3341862749, 3431069287,  685619654, 1682915697,  123322756,\n",
       "        3918855529, 2303440168, 1526199273,  548561632, 2439701177,\n",
       "        2845738785,  936512554, 2072463086, 3856524200, 3440268757,\n",
       "         863069133,  817894721,  133114886, 3692401856, 3061124178,\n",
       "        3052710900,  893943411, 3395972805, 1622125189, 2167073404,\n",
       "        2128474655,  452236352, 2475998635, 1322075417, 4104002277,\n",
       "        3809456940, 3059669242, 1146114632, 4223174718, 2254529923,\n",
       "        1447433560, 2894204305,  194512500,  194682938,  760627545,\n",
       "        1634691477, 1669389277,  176388678, 1647883289,  627566068,\n",
       "        2511949249, 2702051693,  597631050, 1343575986, 3997132064,\n",
       "        1947705937, 2740967955, 3808109113, 1509657447, 4121007556,\n",
       "        1851299594, 3071638239, 1380236986, 1515082577, 2460790555,\n",
       "        2642703977, 1770978244,  680051271, 1910351250,  353566351,\n",
       "        3298948604, 2391049517, 2648159006, 1790420640, 3708282650,\n",
       "        1283034739,  911095185, 3934043085, 1314477791, 3234731056,\n",
       "        1803699130, 3737177187,  638583421, 1662050543, 2894732421,\n",
       "        3077734627,  424428134, 2741553376, 1644573645, 2025757728,\n",
       "        3584574122, 1974320723,  883161345, 3220817677,  779849876,\n",
       "        3677044494, 3525891532, 4046529111, 3557654481, 4185444488,\n",
       "        1813097094, 3035334387, 3367646918, 1948911979, 1300590981,\n",
       "        3389091272,  450819276, 2894840114, 1708517543,  191864886,\n",
       "        1765874695, 2866365720, 2305371645, 1444257111,  487856555,\n",
       "         307733557, 4243007144, 2911946039, 3021613994,  558375434,\n",
       "        3790784693, 1462539922, 1664160708,  206846591,  503450594,\n",
       "        2589500146,  146454905, 2101079687, 2297745833, 3967302723,\n",
       "        1231947277,  335073162, 3976248385, 3822557402, 4274679662,\n",
       "        3816442835,   75643363, 3515896419, 2862997685, 1907660809,\n",
       "         164905983, 3910880115, 3811816457, 1929732812, 1922740412,\n",
       "        2429018221,  218100648, 2750941734, 3846522131,  700043312,\n",
       "        3624457169, 1469379772, 2984817780, 1889294706,  263378500,\n",
       "        1913974202, 2576866990, 2244536004,  590152455,    9564589,\n",
       "        3953454892, 2589689207, 3803858198, 3792207671,  601425011,\n",
       "        3945090383, 3911789549, 2705503192,  881238005, 2154445213,\n",
       "         706204592, 1702868326, 3444027802, 3263361877, 3242002407,\n",
       "        1300832750, 3150728006,  717035216, 1837060365, 2632869562,\n",
       "        3993960343, 1606224484, 3571984346, 3755596447, 2973023375,\n",
       "        3331381669, 3609834883,  739646598, 2309421029, 3839585835,\n",
       "        2610814673, 4249670985,  444252477,  679666461, 2029592702,\n",
       "        2217134633, 2427176710,  576891300,  825340613,   11138507,\n",
       "        2485427498,  916744668, 1082687713, 2297608566, 4012785627,\n",
       "        4233218384, 3594967512, 3448186753, 1459956069, 1777064336,\n",
       "         544370770, 3045077880,  393648705, 1579066821, 3240708981,\n",
       "         652668080, 2794820243, 4066995545,   76763047, 1162857737,\n",
       "         141372751, 1367025747, 3228093315, 2394933930, 1605819763,\n",
       "        3318047014, 3957268934, 2155725031, 3759843464, 4001620743,\n",
       "        2476848581, 3045406645, 2724260710, 2381407144, 2688044359,\n",
       "        2423482991, 2792903480, 3499680026, 3497406742, 2994248579,\n",
       "        2706662432, 3838817446, 4196504406, 2322243271,  510333432,\n",
       "        1789120536, 4188896286, 4188569011, 1519175603, 2655456382,\n",
       "         521816625,  174751643, 4220210286, 3705044297, 2394032507,\n",
       "        3785260807, 4271718879,  961394968, 1667227589, 1374629282,\n",
       "        1446919582,  417425419, 3991466152, 1046443977, 3309556896,\n",
       "        3036881059, 3877177818, 1679099123, 4136531665, 1535722546,\n",
       "        4094440568,  608405729,  487353120, 2300208380,  577226643,\n",
       "        2512677213,  679111386, 1601229666, 2488820336, 2628508252,\n",
       "        1748727417, 3475240636, 1265996224,  413780875, 3451367998,\n",
       "         327612537, 3330787878,  566464259,  650447002, 4052537390,\n",
       "        1429289006, 1355109113, 1544058183, 2466429966, 2869599789,\n",
       "        1361088765, 3058962655, 2654727589, 1935942488, 2698744979,\n",
       "         890910636,  282526804, 1148299933, 1332333830, 2192024638,\n",
       "         279701800, 3551618629, 3366113564,  369039802, 1585426914,\n",
       "        1070115600, 4213640914, 2433594104, 3959777318, 2011227422,\n",
       "        4264623553, 1232007441, 2939595992,  352902539, 3185298529,\n",
       "        3805126554, 1857542633, 3883803157,  194722364, 2383157051,\n",
       "         834776077, 1993791410, 1175905841, 1938326147,  205590750,\n",
       "        3317987115, 1281322078, 1027447314, 4013911218, 4194802798,\n",
       "        4205972891, 2964174483, 3576930769, 3283499895, 1289914978,\n",
       "         505714094, 4165676358, 2311441114, 3766395098, 1207474240,\n",
       "          72735817, 2059533170, 2721956101, 1239083114, 3366713055,\n",
       "        3271041653, 1871757368, 3364444456,  857027235, 2783655676,\n",
       "        4281115108, 1888583890, 3508387823, 1004930509, 1601568915,\n",
       "        1809472845,  103316656, 3246613285, 1726969268, 1449807648,\n",
       "         305193661, 1170971466, 1652320593,  279010891,  590174291,\n",
       "        2473411964, 2998852212, 1768904781, 2839708604,  569420215,\n",
       "         113698293, 3275479148, 3430468751, 4176716033, 3629554064,\n",
       "        3915334598,   71117697,   82916526, 3776768112,  670188074,\n",
       "        4012021342,  866654590,  828931716, 2408222691, 2748395157,\n",
       "        2375496292,  795441680, 1029683747, 1280715939, 3427815359,\n",
       "         343872258, 1952224161, 4242989048, 1490072288, 2318925215,\n",
       "        2853901772,  469555746, 2859221831,  530151703, 2633701106,\n",
       "         786857616,  278593713,  828178615, 2014591254, 1982387959,\n",
       "         568358643, 1104935621, 1079563579,  968764362, 4160512667,\n",
       "        3112058850, 4263384395, 1345974100,  256043894,  228789628,\n",
       "        1374662619, 1604455666, 1384261840, 2129196391, 2064017713,\n",
       "         404894180, 1600959721, 2768996734, 1552194531,  317420578,\n",
       "        4244178275, 3082780890, 2691264307, 1819351377, 3227176589,\n",
       "         171933188,  664329619, 2162694143, 1951587794, 1378644289,\n",
       "        1290006595, 3142524430,  530532545,  554565419, 2789257470,\n",
       "        1562423668, 1930469938, 1069697833, 2080348728, 4176436105,\n",
       "         120715647, 4222969897, 4101412001, 1354848250, 2688158488,\n",
       "        2358070612, 2004650753, 2542131476, 2694147523, 3203897403,\n",
       "         229937556, 1966187900,  277950826, 1319123692, 1564153500,\n",
       "        1102377741, 2009682393, 1545725014, 1861396338, 3112017279,\n",
       "        1916930418,  826361729, 3196862728,  996803862, 2569456083,\n",
       "        3741678235, 1710012447, 2512303102, 1584586901, 1368248462,\n",
       "         427348374, 3085826138, 3576829157, 2218481388, 3044060181,\n",
       "        1244476995, 3383606331, 1355627594,    4845258, 1836798438,\n",
       "        3788304728, 3229740573, 2793603597,  808638755, 3996674056,\n",
       "        2822500753,  317914170, 3765341982, 3690986926, 3061558399,\n",
       "        2709845136,  676635098, 2566358851, 4023461863, 3541680951,\n",
       "        1494014408, 3273490322, 1826549627, 1181927273, 2346145360,\n",
       "        1566896803, 3642388020,   65662206, 1578135682, 1078427900,\n",
       "        3811068703,  215720027, 1643378999, 3457759903,  982883806,\n",
       "         664082665, 1652983617, 2419367573,  398615273, 1727969604,\n",
       "         545785745,   44996494, 2329856864, 3966480901, 1324119226,\n",
       "        3269403428, 3051995073, 1596785998,  499343755, 2618679608,\n",
       "        3938445380, 2666898790, 3794323160, 3766397388, 1401014289,\n",
       "        2662629559,  386574033, 2251336670, 2150665270, 1402676975,\n",
       "        2089663570,  670612012, 2281112010, 1088405079], dtype=uint32), 624, 0, 0.0)"
      ]
     },
     "execution_count": 10,
     "metadata": {},
     "output_type": "execute_result"
    }
   ],
   "source": [
    "np.random.get_state() # Return a tuple representing the internal state of the generator."
   ]
  },
  {
   "cell_type": "markdown",
   "metadata": {},
   "source": [
    "The returned tuple has the following items:\n",
    "\n",
    "the string ‘MT19937’.\n",
    "a 1-D array of 624 unsigned integer keys.\n",
    "an integer pos.\n",
    "an integer has_gauss.\n",
    "a float cached_gaussian."
   ]
  },
  {
   "cell_type": "markdown",
   "metadata": {},
   "source": [
    "***\n",
    "## References\n",
    "[1] https://numpy.org/\n",
    "\n",
    "[2] https://docs.scipy.org/doc/numpy/reference/random/bit_generators/mt19937.html\n",
    "\n",
    "[3] https://stattrek.com/statistics/dictionary.aspx?definition=standard_normal_distribution\n",
    "\n",
    "[4] http://mathworld.wolfram.com/DiscreteUniformDistribution.html\n",
    "\n",
    "[5] https://stackoverflow.com/a/47232184\n",
    "\n",
    "[6] https://docs.scipy.org/doc/numpy-1.16.0/reference/generated/numpy.random.random_sample.html#numpy.random.random_sample\n",
    "\n",
    "[7] https://stackoverflow.com/a/40689169\n",
    "\n",
    "[8] https://docs.scipy.org/doc/numpy-1.16.0/reference/generated/numpy.random.binomial.html#numpy.random.binomial\n",
    "\n",
    "[9] https://explorable.com/f-distribution\n",
    "\n",
    "[10] https://magoosh.com/statistics/f-distribution-explained/\n",
    "\n",
    "[12] https://en.m.wikipedia.org/wiki/Chi-squared_test\n",
    "\n",
    "[13] https://www.siyavula.com/read/maths/grade-11/statistics/11-statistics-05\n",
    "\n",
    "[14] http://functions.wolfram.com/GammaBetaErf/Gamma/introductions/Gamma/ShowAll.html\n",
    "\n",
    "[15] https://www.thoughtco.com/gamma-function-3126586\n",
    "\n",
    "[16] https://www.quora.com/What-is-seed-in-random-number-generation\n",
    "\n",
    "[18] Wikipedia : System time. https://en.wikipedia.org/wiki/System_time\n",
    "\n",
    "[19] Random Seed: Definition https://www.statisticshowto.datasciencecentral.com/random-seed-definition/"
   ]
  },
  {
   "cell_type": "code",
   "execution_count": null,
   "metadata": {},
   "outputs": [],
   "source": []
  }
 ],
 "metadata": {
  "kernelspec": {
   "display_name": "Python 3",
   "language": "python",
   "name": "python3"
  },
  "language_info": {
   "codemirror_mode": {
    "name": "ipython",
    "version": 3
   },
   "file_extension": ".py",
   "mimetype": "text/x-python",
   "name": "python",
   "nbconvert_exporter": "python",
   "pygments_lexer": "ipython3",
   "version": "3.7.3"
  }
 },
 "nbformat": 4,
 "nbformat_minor": 4
}
