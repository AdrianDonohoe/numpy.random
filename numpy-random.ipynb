{
 "cells": [
  {
   "cell_type": "markdown",
   "metadata": {},
   "source": [
    "# The numpy.random package"
   ]
  },
  {
   "cell_type": "markdown",
   "metadata": {},
   "source": [
    "***\n",
    "## Introduction\n",
    "\n",
    "numpy.random is a module from the NumPy package. NumPy is the fundamental package for scientific computing with Python [1]. For simulation purposes, it may be necessary to generate random data. One of the many capabilities of NumPy is random number generation. The numpy.random package uses the Mersenne Twister Pseudo-Random Number Generator (PRNG) [2].\n",
    "\n",
    "The package can be used once it is imported as follows."
   ]
  },
  {
   "cell_type": "code",
   "execution_count": 1,
   "metadata": {},
   "outputs": [],
   "source": [
    "import numpy as np"
   ]
  },
  {
   "cell_type": "markdown",
   "metadata": {},
   "source": [
    "***\n",
    "## Simple Random Data Functions"
   ]
  },
  {
   "cell_type": "markdown",
   "metadata": {},
   "source": [
    "### numpy.random.rand() Function\n",
    "\n",
    "numpy.random.rand(d0, d1, ..., dn)\n",
    "\n",
    "This function creates an array of random numbers between 0 and up to, but not including 1. \n",
    "\n",
    "The dimension of the returned array can be specified by using the dimension arguments in the function i.e. np.random.rand(1,2) will return an array of 1 row with 2 numbers, np.random.rand(3,2,4) will return a 3-dimensional array of 4\\*2\\*3 numbers. \n",
    "\n",
    "If no dimension is specified, a single random number is returned.\n",
    "\n",
    "To generate a single dimensional array, the number of random numbers required is used as the dimension argument.\n",
    "\n",
    "The subsequent cells show the examples given."
   ]
  },
  {
   "cell_type": "code",
   "execution_count": 23,
   "metadata": {},
   "outputs": [
    {
     "data": {
      "text/plain": [
       "array([[0.49821603, 0.83128048]])"
      ]
     },
     "execution_count": 23,
     "metadata": {},
     "output_type": "execute_result"
    }
   ],
   "source": [
    "np.random.rand(1,2) # Create an array with 1 row and 2 columns"
   ]
  },
  {
   "cell_type": "code",
   "execution_count": 17,
   "metadata": {},
   "outputs": [
    {
     "data": {
      "text/plain": [
       "array([[[0.89032393, 0.46207401, 0.41542949, 0.92490075],\n",
       "        [0.59102587, 0.98424244, 0.12184133, 0.29475423]],\n",
       "\n",
       "       [[0.5171941 , 0.15095393, 0.6806265 , 0.79708967],\n",
       "        [0.61440258, 0.4305988 , 0.83738224, 0.71377749]],\n",
       "\n",
       "       [[0.74369501, 0.02888275, 0.08985462, 0.41183257],\n",
       "        [0.7616483 , 0.83165074, 0.98726309, 0.34190843]]])"
      ]
     },
     "execution_count": 17,
     "metadata": {},
     "output_type": "execute_result"
    }
   ],
   "source": [
    "np.random.rand(3,2,4) # Create an array of dimension 3*2*4"
   ]
  },
  {
   "cell_type": "code",
   "execution_count": 21,
   "metadata": {},
   "outputs": [
    {
     "data": {
      "text/plain": [
       "0.6561870928370026"
      ]
     },
     "execution_count": 21,
     "metadata": {},
     "output_type": "execute_result"
    }
   ],
   "source": [
    "np.random.rand() # Create an array with a single value"
   ]
  },
  {
   "cell_type": "code",
   "execution_count": 22,
   "metadata": {},
   "outputs": [
    {
     "data": {
      "text/plain": [
       "array([0.90370443, 0.77784505, 0.20506306, 0.48466893, 0.41710026,\n",
       "       0.02343438, 0.22547567, 0.1761286 , 0.1993767 , 0.91574441,\n",
       "       0.89800689, 0.95302119, 0.40560885, 0.66973662, 0.8512226 ,\n",
       "       0.33156129, 0.63493334, 0.01874103, 0.55699446, 0.81689339,\n",
       "       0.70939285, 0.28969373, 0.34423699, 0.05906936, 0.94498304,\n",
       "       0.28967949, 0.58247905, 0.235157  , 0.62831974, 0.05500084,\n",
       "       0.38996422, 0.63288061, 0.94433019, 0.6119214 , 0.610729  ,\n",
       "       0.54804262, 0.97474787, 0.27348687, 0.9944837 , 0.34102444,\n",
       "       0.13723254, 0.09430226, 0.74701127, 0.65701533, 0.07361355,\n",
       "       0.65378484, 0.94103817, 0.00432783, 0.52054851, 0.11629658,\n",
       "       0.05123394, 0.12547242, 0.25571399, 0.61529709, 0.22597351,\n",
       "       0.92735011, 0.23214762, 0.73870235, 0.24332512, 0.98630502,\n",
       "       0.70889886, 0.3465453 , 0.16770954, 0.24418612, 0.74686503,\n",
       "       0.3007006 , 0.65705186, 0.47095562, 0.61273608, 0.53864351,\n",
       "       0.03485728, 0.05795787, 0.89039006, 0.75435199, 0.44750932,\n",
       "       0.77338191, 0.28420543, 0.51327109, 0.5608667 , 0.05600146,\n",
       "       0.19931191, 0.9867658 , 0.45096814, 0.95058804, 0.3402208 ,\n",
       "       0.65581858, 0.12129036, 0.70899482, 0.16711019, 0.34477055,\n",
       "       0.37256562, 0.51630719, 0.75084009, 0.28495503, 0.18756554,\n",
       "       0.51370316, 0.71462153, 0.41825102, 0.03284641, 0.7181186 ])"
      ]
     },
     "execution_count": 22,
     "metadata": {},
     "output_type": "execute_result"
    }
   ],
   "source": [
    "np.random.rand(100) # Create an array with 100 values"
   ]
  },
  {
   "cell_type": "markdown",
   "metadata": {},
   "source": [
    "#### Histogram of 10,000 randomly selected numbers by rand function\n",
    "In the histogram plot below, 10,000 random numbers are generated and plotted in a histogram. The histogram shows a relatively even distribution of the randomly chosen numbers. "
   ]
  },
  {
   "cell_type": "code",
   "execution_count": 4,
   "metadata": {},
   "outputs": [
    {
     "data": {
      "image/png": "[encoded data removed]",
      "text/plain": [
       "<Figure size 432x288 with 1 Axes>"
      ]
     },
     "metadata": {
      "needs_background": "light"
     },
     "output_type": "display_data"
    }
   ],
   "source": [
    "x = np.random.rand(10000) # Create a random array of 10000 numbers between 0 and 1\n",
    "import matplotlib.pyplot as plt # Import pyplot in order to use the hist function in matplotlib\n",
    "plt.hist(x); # Plot a histogram of x"
   ]
  },
  {
   "cell_type": "markdown",
   "metadata": {},
   "source": [
    "***\n",
    "### numpy.random.randn() Function\n",
    "numpy.random.randn(d0, d1, ..., dn)\n",
    "This function creates an array of random numbers using the standard normal distribution. The standard normal distribution is a special case of the normal distribution . It is the distribution that occurs when a normal random variable has a mean of zero and a standard deviation of one [3].\n",
    "\n",
    "The dimension of the returned array can be specified by using the dimension arguments in the function i.e. np.random.randn(1,2) will return an array of 1 row with 2 numbers, np.random.randn(3,2,5) will return a 3-dimensional array of 5\\*2\\*3 numbers. The \n",
    "\n",
    "If no dimension is specified, a single random number is returned. \n",
    "\n",
    "To generate a single dimensional array, the number of random numbers required is used as the dimension argument.\n",
    "\n",
    "The subsequent cells show the examples given."
   ]
  },
  {
   "cell_type": "code",
   "execution_count": 13,
   "metadata": {},
   "outputs": [
    {
     "data": {
      "text/plain": [
       "array([[ 1.24493034, -0.17491435]])"
      ]
     },
     "execution_count": 13,
     "metadata": {},
     "output_type": "execute_result"
    }
   ],
   "source": [
    "np.random.randn(1,2) # Returns a 1 row , 2 columns array"
   ]
  },
  {
   "cell_type": "code",
   "execution_count": 15,
   "metadata": {},
   "outputs": [
    {
     "data": {
      "text/plain": [
       "array([[[-0.02219081, -1.1526999 , -0.81263396,  0.40100745,\n",
       "         -0.73020547],\n",
       "        [-1.32300042,  0.95203493, -1.46313053, -0.22806385,\n",
       "          1.36548204]],\n",
       "\n",
       "       [[ 0.20385017,  1.18307393, -1.10952975,  1.01721867,\n",
       "         -0.89575171],\n",
       "        [-0.17331009,  0.75179518, -0.10930725, -0.19911753,\n",
       "          0.29385981]],\n",
       "\n",
       "       [[ 1.20671927, -0.52229036,  1.17592163, -1.22611974,\n",
       "          1.09235299],\n",
       "        [-0.89864819,  0.49328204, -0.49737671,  1.33242819,\n",
       "          1.13962092]]])"
      ]
     },
     "execution_count": 15,
     "metadata": {},
     "output_type": "execute_result"
    }
   ],
   "source": [
    "np.random.randn(3,2,5) # Returns an array of dimension 3*2*5"
   ]
  },
  {
   "cell_type": "code",
   "execution_count": 18,
   "metadata": {},
   "outputs": [
    {
     "data": {
      "text/plain": [
       "-0.7059002692141332"
      ]
     },
     "execution_count": 18,
     "metadata": {},
     "output_type": "execute_result"
    }
   ],
   "source": [
    "np.random.randn() # Returns a single value array"
   ]
  },
  {
   "cell_type": "code",
   "execution_count": 17,
   "metadata": {},
   "outputs": [
    {
     "data": {
      "text/plain": [
       "array([ 9.72194772e-01,  6.01797801e-01,  4.10036352e-01,  3.32682512e-01,\n",
       "        7.99360018e-01,  3.96628576e-01, -5.51938108e-01, -1.38537651e-01,\n",
       "       -1.28691218e+00, -4.83000179e-05, -2.05551517e-01,  1.45599910e+00,\n",
       "        9.72013659e-01, -9.53301576e-01,  6.76653014e-01, -1.49878366e-01,\n",
       "       -1.43578793e+00, -4.39356169e-01,  1.49008546e+00, -5.02163167e-01,\n",
       "       -9.68037064e-01,  3.40360362e-01, -1.20757331e+00, -5.16715102e-01,\n",
       "        6.77318402e-01, -1.05001864e+00,  5.20111365e-02,  2.62664400e-01,\n",
       "       -7.15903453e-01,  2.41235161e+00,  1.52386915e+00, -1.32665548e+00,\n",
       "       -1.37462936e+00,  1.95599780e+00,  3.33458798e-01,  1.57609533e+00,\n",
       "        7.94729796e-01, -4.02666955e-01,  3.77894246e-01, -2.81220196e-01,\n",
       "        3.44693543e-01,  3.18647165e-01,  1.10472756e+00, -5.38012135e-01,\n",
       "       -1.73885353e+00,  2.22737980e+00, -9.13205735e-01,  1.49344469e+00,\n",
       "       -8.86862509e-01, -3.62067210e-02, -2.13989973e-02,  1.69033099e+00,\n",
       "        1.80671087e+00,  9.19959347e-01,  4.79884958e-01, -3.13567425e-01,\n",
       "       -1.73509505e-01,  1.80402454e+00, -1.67690847e+00,  8.47356256e-01,\n",
       "        2.78709018e-01,  7.27666004e-01, -6.65272393e-01,  1.20678014e+00,\n",
       "       -1.21359269e+00, -1.60542373e+00, -6.22187826e-01, -7.19122729e-01,\n",
       "       -7.90492266e-01,  5.76031873e-01,  3.30777220e-01,  2.68465277e-01,\n",
       "        3.21150070e-01, -1.24836149e-01, -9.21453473e-02,  1.94972035e-01,\n",
       "        6.61250326e-01,  6.57080574e-01, -4.80357556e-01,  2.09358031e-01,\n",
       "        5.70055479e-01, -2.26547291e-01,  4.60197416e-01, -2.32040428e-01,\n",
       "        2.85463471e-01,  5.91770085e-01,  8.46206901e-01, -1.39744450e+00,\n",
       "       -4.23059157e-01,  6.16132052e-02, -7.11688876e-01,  8.72233773e-01,\n",
       "       -2.66364588e+00,  1.10544977e+00, -1.01575258e+00, -4.36591190e-02,\n",
       "       -6.87071314e-01, -6.00823410e-01, -1.93970777e+00, -7.78909027e-01])"
      ]
     },
     "execution_count": 17,
     "metadata": {},
     "output_type": "execute_result"
    }
   ],
   "source": [
    "np.random.randn(100) # Returns an array with 100 values"
   ]
  },
  {
   "cell_type": "markdown",
   "metadata": {},
   "source": [
    "#### Histogram of 10,000 randomly selected numbers by randn function\n",
    "In the histogram plot below, 10,000 random numbers are generated by randn and plotted in a histogram. As you would expect from the standard normal distribution, the the plot is centred around 0 (the mean) and most of the values are between -1 and 1 (standard deviation of 1)."
   ]
  },
  {
   "cell_type": "code",
   "execution_count": 12,
   "metadata": {},
   "outputs": [
    {
     "data": {
      "image/png": "[encoded data removed]",
      "text/plain": [
       "<Figure size 432x288 with 1 Axes>"
      ]
     },
     "metadata": {
      "needs_background": "light"
     },
     "output_type": "display_data"
    }
   ],
   "source": [
    "x = np.random.randn(10000) # Create an array x with 10,000 values\n",
    "plt.hist(x); # Plot a histogram of x"
   ]
  },
  {
   "cell_type": "markdown",
   "metadata": {},
   "source": [
    "***\n",
    "### numpy.random.randint() Function\n",
    "\n",
    "numpy.random.randint(low, high=None, size=None, dtype='l')\n",
    "\n",
    "This function creates an array of random numbers between \"low\" and \"high\" from the the discrete uniform distribution. The discrete uniform distribution is also known as the \"equally likely outcomes\" distribution [4].\n",
    "\n",
    "The low and high parameters are know as the \"half-open\" interval i.e starting at and including \"low\" and up to but not including \"high\".\n",
    "\n",
    "If a \"low\" parameter is included and no \"high\" paramater is included, the function will return an array from 0 to \"low\".\n",
    "\n",
    "The size parameter is similar to the dimensions for the rand function. This defines the dimension of the returned array. If no size is specified, a single value is returned.\n",
    "\n",
    "The dtype is used to specify the output dtype (int or int64).\n",
    "\n"
   ]
  },
  {
   "cell_type": "code",
   "execution_count": 39,
   "metadata": {},
   "outputs": [
    {
     "data": {
      "text/plain": [
       "array([[1, 2, 2],\n",
       "       [1, 1, 2]])"
      ]
     },
     "execution_count": 39,
     "metadata": {},
     "output_type": "execute_result"
    }
   ],
   "source": [
    "np.random.randint(1,3,size=(2,3)) # Create an random integer array of 2 rows, 3 columns from 0 and up to/not including 3"
   ]
  },
  {
   "cell_type": "code",
   "execution_count": 40,
   "metadata": {},
   "outputs": [
    {
     "data": {
      "text/plain": [
       "array([[2, 1, 0],\n",
       "       [1, 1, 0]])"
      ]
     },
     "execution_count": 40,
     "metadata": {},
     "output_type": "execute_result"
    }
   ],
   "source": [
    "np.random.randint(3,size=(2,3)) # Create a random integer array of 2 rows, 3 columns from 0 and up to/not including 3"
   ]
  },
  {
   "cell_type": "code",
   "execution_count": 43,
   "metadata": {},
   "outputs": [
    {
     "data": {
      "text/plain": [
       "2"
      ]
     },
     "execution_count": 43,
     "metadata": {},
     "output_type": "execute_result"
    }
   ],
   "source": [
    "np.random.randint(0,5) # Create a random integer array of a single value from 0 and up to/not including 5"
   ]
  },
  {
   "cell_type": "markdown",
   "metadata": {},
   "source": [
    "#### Histogram of 10,000 ramdomly selected integers using randint function"
   ]
  },
  {
   "cell_type": "code",
   "execution_count": 7,
   "metadata": {},
   "outputs": [
    {
     "data": {
      "image/png": "[encoded data removed]",
      "text/plain": [
       "<Figure size 432x288 with 1 Axes>"
      ]
     },
     "metadata": {
      "needs_background": "light"
     },
     "output_type": "display_data"
    }
   ],
   "source": [
    "x = np.random.randint(0,5,size=10000) # Create  random integer array between [0,5) with 10000 elements\n",
    "plt.hist(x);  # Displays the \"equally likely outcomes\" distribution"
   ]
  },
  {
   "cell_type": "markdown",
   "metadata": {},
   "source": [
    "***\n",
    "### numpy.random.random_integers() Function\n",
    "numpy.random.random_integers(low, high=None, size=None)\n",
    "\n",
    "Very similar to numpy.random.randint() except the closed interval [low,high], both high and low are included. One difference being that if the high interval is not stated (default=None), 1 is assumed to be the low interval and the high interval is low i.e. [1, low].\n",
    "\n",
    "The size parameter is similar to the dimensions for the rand function. This defines the dimension of the returned array. If no size is specified, a single value is returned.\n",
    "\n",
    "Deprecated since version 1.11.0\n"
   ]
  },
  {
   "cell_type": "code",
   "execution_count": 14,
   "metadata": {},
   "outputs": [
    {
     "name": "stderr",
     "output_type": "stream",
     "text": [
      "/home/aido/anaconda3/lib/python3.7/site-packages/ipykernel_launcher.py:1: DeprecationWarning: This function is deprecated. Please call randint(1, 3 + 1) instead\n",
      "  \"\"\"Entry point for launching an IPython kernel.\n"
     ]
    },
    {
     "data": {
      "text/plain": [
       "array([[1, 2, 3],\n",
       "       [1, 3, 1]])"
      ]
     },
     "execution_count": 14,
     "metadata": {},
     "output_type": "execute_result"
    }
   ],
   "source": [
    "np.random.random_integers(1,3,size=(2,3)) # Create an random integer array of 2 rows, 3 columns from 1 and up to and including 3. As you can see in the output its deprecated"
   ]
  },
  {
   "cell_type": "code",
   "execution_count": 15,
   "metadata": {},
   "outputs": [
    {
     "name": "stderr",
     "output_type": "stream",
     "text": [
      "/home/aido/anaconda3/lib/python3.7/site-packages/ipykernel_launcher.py:1: DeprecationWarning: This function is deprecated. Please call randint(1, 3 + 1) instead\n",
      "  \"\"\"Entry point for launching an IPython kernel.\n"
     ]
    },
    {
     "data": {
      "text/plain": [
       "array([[2, 1, 3],\n",
       "       [1, 2, 2]])"
      ]
     },
     "execution_count": 15,
     "metadata": {},
     "output_type": "execute_result"
    }
   ],
   "source": [
    "np.random.random_integers(3,size=(2,3)) # Create a random integer array of 2 rows, 3 columns from 0 and up and including 3"
   ]
  },
  {
   "cell_type": "code",
   "execution_count": 16,
   "metadata": {},
   "outputs": [
    {
     "name": "stderr",
     "output_type": "stream",
     "text": [
      "/home/aido/anaconda3/lib/python3.7/site-packages/ipykernel_launcher.py:1: DeprecationWarning: This function is deprecated. Please call randint(0, 5 + 1) instead\n",
      "  \"\"\"Entry point for launching an IPython kernel.\n"
     ]
    },
    {
     "data": {
      "text/plain": [
       "4"
      ]
     },
     "execution_count": 16,
     "metadata": {},
     "output_type": "execute_result"
    }
   ],
   "source": [
    "np.random.random_integers(0,5) # Create a random integer array of a single value from 0 and up to and including 5"
   ]
  },
  {
   "cell_type": "markdown",
   "metadata": {},
   "source": [
    "#### Histogram of 10,000 randomly selected integers using the random_integers function"
   ]
  },
  {
   "cell_type": "code",
   "execution_count": 17,
   "metadata": {},
   "outputs": [
    {
     "name": "stderr",
     "output_type": "stream",
     "text": [
      "/home/aido/anaconda3/lib/python3.7/site-packages/ipykernel_launcher.py:1: DeprecationWarning: This function is deprecated. Please call randint(0, 5 + 1) instead\n",
      "  \"\"\"Entry point for launching an IPython kernel.\n"
     ]
    },
    {
     "data": {
      "image/png": "[encoded data removed]",
      "text/plain": [
       "<Figure size 432x288 with 1 Axes>"
      ]
     },
     "metadata": {
      "needs_background": "light"
     },
     "output_type": "display_data"
    }
   ],
   "source": [
    "x = np.random.random_integers(0,5,size=10000) # Create  random integer array between [0,5] with 10000 elements\n",
    "plt.hist(x);  # Displays the \"equally likely outcomes\" distribution"
   ]
  },
  {
   "cell_type": "markdown",
   "metadata": {},
   "source": [
    "***\n",
    "### numpy.random.random_sample() Function\n",
    "numpy.random.random_sample(size=None)\n",
    "\n",
    "This function returns an array of random floats from 0.0 (inclusive) up to but not including 1.0 i.e. the half-open interval [0.0, 1.0)\n",
    "\n",
    "The difference between numpy.random.random_sample and numpy.random.rand is that the size is a single tuple [5].\n",
    "\n",
    "Default for the size parameter is None i.e. a single value is returned."
   ]
  },
  {
   "cell_type": "code",
   "execution_count": 41,
   "metadata": {},
   "outputs": [
    {
     "data": {
      "text/plain": [
       "0.5628370508230315"
      ]
     },
     "execution_count": 41,
     "metadata": {},
     "output_type": "execute_result"
    }
   ],
   "source": [
    "np.random.random_sample() # Returns a single value"
   ]
  },
  {
   "cell_type": "code",
   "execution_count": 44,
   "metadata": {},
   "outputs": [
    {
     "data": {
      "text/plain": [
       "array([0.22407586, 0.2543032 , 0.74716408, 0.51716461, 0.4229492 ,\n",
       "       0.83715913, 0.06783667, 0.86681628, 0.51911615, 0.67111742])"
      ]
     },
     "execution_count": 44,
     "metadata": {},
     "output_type": "execute_result"
    }
   ],
   "source": [
    "np.random.random_sample(10) # Returns an array of 10 random floats [0.0, 1.0)"
   ]
  },
  {
   "cell_type": "code",
   "execution_count": 46,
   "metadata": {},
   "outputs": [
    {
     "data": {
      "text/plain": [
       "array([[0.08043098, 0.13980285],\n",
       "       [0.18654549, 0.83439044],\n",
       "       [0.85212962, 0.51462747]])"
      ]
     },
     "execution_count": 46,
     "metadata": {},
     "output_type": "execute_result"
    }
   ],
   "source": [
    "np.random.random_sample((3,2)) # Returns an array with 3 rows of 2 columns"
   ]
  },
  {
   "cell_type": "markdown",
   "metadata": {},
   "source": [
    "#### Histograms of 10,000 ramdomly selected floats"
   ]
  },
  {
   "cell_type": "code",
   "execution_count": 47,
   "metadata": {},
   "outputs": [
    {
     "data": {
      "image/png": "[encoded data removed]",
      "text/plain": [
       "<Figure size 432x288 with 1 Axes>"
      ]
     },
     "metadata": {
      "needs_background": "light"
     },
     "output_type": "display_data"
    }
   ],
   "source": [
    "x = np.random.random_sample(10000) # Creates an array x with 10,000 values\n",
    "plt.hist(x); # Plot a histogram of x. An even distribution just like numpy.random.rand() function"
   ]
  },
  {
   "cell_type": "code",
   "execution_count": 50,
   "metadata": {},
   "outputs": [
    {
     "data": {
      "image/png": "[encoded data removed]",
      "text/plain": [
       "<Figure size 432x288 with 1 Axes>"
      ]
     },
     "metadata": {
      "needs_background": "light"
     },
     "output_type": "display_data"
    }
   ],
   "source": [
    "x = 2*np.random.random_sample(10000) + 1  # This creates an array x with 10,000 samples between [1, 3) [6]\n",
    "plt.hist(x); # Again we see an even distribution but this time between [1, 3)"
   ]
  },
  {
   "cell_type": "markdown",
   "metadata": {},
   "source": [
    "***\n",
    "### numpy.random.random(), numpy.random.ranf() and numpy.random.sample() Functions\n",
    "numpy.random.random(size=None), numpy.random.ranf(size=None) and numpy.random.sample(size=None)\n",
    "\n",
    "These functions are an alias of numpy.random.random_sample and have the exact same usage [5]."
   ]
  },
  {
   "cell_type": "markdown",
   "metadata": {},
   "source": [
    "***\n",
    "### numpy.random.choice() Function\n",
    "numpy.random.choice(a, size=None, replace=True, p=None)\n",
    "\n",
    "This function from a given parameter 'a'. If 'a' is an ndarray, the function returns a random sample of that array.If 'a' is an integer, the random sample is taken from np.arange(a).\n",
    "\n",
    "The size parameter is the desired array output shape. If no size is given, none is assumed and a single value is returned.\n",
    "\n",
    "The replace parameter is used if you want the selected number to be used again i.e. replace = True, the choice can be sampled again, replace=False, the samples will be unique. [7]\n",
    "\n",
    "The p paramter is an array of probabilities associated with each entry in the array a. If not specified the sample assumes a uniform distribution.\n"
   ]
  },
  {
   "cell_type": "code",
   "execution_count": 39,
   "metadata": {},
   "outputs": [
    {
     "name": "stdout",
     "output_type": "stream",
     "text": [
      "[4 1]\n",
      "[9 9 4]\n",
      "5\n",
      "[[7 2 2]\n",
      " [5 9 7]]\n",
      "[0 1 1 2 1]\n",
      "[0 4 1]\n"
     ]
    },
    {
     "data": {
      "image/png": "[encoded data removed]",
      "text/plain": [
       "<Figure size 432x288 with 1 Axes>"
      ]
     },
     "metadata": {
      "needs_background": "light"
     },
     "output_type": "display_data"
    }
   ],
   "source": [
    "a = np.arange(5)\n",
    "print(np.random.choice(a,2)) # 2 samples from ndarray a\n",
    "print(np.random.choice(10,3)) # 3 samples from np.arange(10)\n",
    "print(np.random.choice(10)) # 1 sample from np.arange(10)\n",
    "print(np.random.choice(10,(2,3))) # 2 rows of 3 samples from np.arange(10)\n",
    "print(np.random.choice(3,5,replace=True)) # 5 samples of np.arange(3)\n",
    "print(np.random.choice(5,3,replace=False)) \n",
    "# print(np.random.choice(3,5,replace=False)) # This throws an error as there are not enough unique samples\n",
    "x = np.random.choice(100000,100000)\n",
    "plt.hist(x); # uniform distribution over 100,000 samples\n"
   ]
  },
  {
   "cell_type": "code",
   "execution_count": 40,
   "metadata": {},
   "outputs": [
    {
     "data": {
      "image/png": "[encoded data removed]",
      "text/plain": [
       "<Figure size 432x288 with 1 Axes>"
      ]
     },
     "metadata": {
      "needs_background": "light"
     },
     "output_type": "display_data"
    }
   ],
   "source": [
    "x = np.random.choice(10, 10, p=[0.05, 0, 0.3, 0.59, 0.01, 0.01, 0.01, 0.01, 0.01, 0.01]) # returns 10 samples from arange(10) with probabilities p\n",
    "plt.hist(x); # As you can see, a non uniform distribution is returned due to probabilities"
   ]
  },
  {
   "cell_type": "markdown",
   "metadata": {},
   "source": [
    "***\n",
    "### numpy.random.bytes Function\n",
    "\n",
    "numpy.random.bytes(length)\n",
    "\n",
    "This function returns random bytes with a specified length."
   ]
  },
  {
   "cell_type": "code",
   "execution_count": 53,
   "metadata": {},
   "outputs": [
    {
     "data": {
      "text/plain": [
       "b'>5\\xee\\xa5\\xb5'"
      ]
     },
     "execution_count": 53,
     "metadata": {},
     "output_type": "execute_result"
    }
   ],
   "source": [
    "np.random.bytes(5)"
   ]
  },
  {
   "cell_type": "markdown",
   "metadata": {},
   "source": [
    "***\n",
    "## Permutations Function\n",
    "\n",
    "### numpy.random.shuffle Function\n",
    "\n",
    "numpy.random.shuffle(x)\n",
    "\n",
    "This function shuffles an array 'x'. For a multi-dimensional array only the first axis is shuffled. The contents of sub-arrays of a multi-dimensional array are not shuffled.\n",
    "\n",
    "The array is shuffled in-place i.e. the original array is returned/replaced but with its contents shuffled."
   ]
  },
  {
   "cell_type": "code",
   "execution_count": 13,
   "metadata": {},
   "outputs": [
    {
     "data": {
      "text/plain": [
       "array([3, 9, 1, 0, 8, 7, 2, 6, 4, 5])"
      ]
     },
     "execution_count": 13,
     "metadata": {},
     "output_type": "execute_result"
    }
   ],
   "source": [
    "x = np.arange(10)\n",
    "np.random.shuffle(x)\n",
    "x"
   ]
  },
  {
   "cell_type": "code",
   "execution_count": 22,
   "metadata": {},
   "outputs": [
    {
     "name": "stdout",
     "output_type": "stream",
     "text": [
      "[[-1.96983415 -0.24915518 -0.06240847  0.48417524]\n",
      " [-0.46699867 -0.16421834 -0.11360587 -0.92176196]\n",
      " [-0.09003414 -0.22056382 -0.62801839 -0.56965593]]\n"
     ]
    },
    {
     "data": {
      "text/plain": [
       "array([[-0.46699867, -0.16421834, -0.11360587, -0.92176196],\n",
       "       [-0.09003414, -0.22056382, -0.62801839, -0.56965593],\n",
       "       [-1.96983415, -0.24915518, -0.06240847,  0.48417524]])"
      ]
     },
     "execution_count": 22,
     "metadata": {},
     "output_type": "execute_result"
    }
   ],
   "source": [
    "x = np.random.randn(3,4)\n",
    "print(x)\n",
    "np.random.shuffle(x)\n",
    "x"
   ]
  },
  {
   "cell_type": "markdown",
   "metadata": {},
   "source": [
    "***\n",
    "### numpy.random.permutation Function\n",
    "numpy.random.permutation(x)\n",
    "\n",
    "This function randomly permutes 'x' where x can be an array or an integer. If 'x' is an integer  the funtion permutes np.arange(x).\n",
    "\n",
    "For a multi-dimensional array only the first axis is shuffled. The contents of sub-arrays of a multi-dimensional array are not shuffled.\n",
    "\n",
    "The contents of the original array is unchanged."
   ]
  },
  {
   "cell_type": "code",
   "execution_count": 23,
   "metadata": {},
   "outputs": [
    {
     "data": {
      "text/plain": [
       "array([9, 1, 0, 4, 6, 5, 3, 2, 8, 7])"
      ]
     },
     "execution_count": 23,
     "metadata": {},
     "output_type": "execute_result"
    }
   ],
   "source": [
    "np.random.permutation(10)"
   ]
  },
  {
   "cell_type": "code",
   "execution_count": 24,
   "metadata": {},
   "outputs": [
    {
     "data": {
      "text/plain": [
       "array([9, 0, 4, 5, 1, 2, 6, 8, 7, 3])"
      ]
     },
     "execution_count": 24,
     "metadata": {},
     "output_type": "execute_result"
    }
   ],
   "source": [
    "x = np.arange(10)\n",
    "np.random.permutation(x)"
   ]
  },
  {
   "cell_type": "code",
   "execution_count": 37,
   "metadata": {},
   "outputs": [
    {
     "name": "stdout",
     "output_type": "stream",
     "text": [
      "[[ 1.2645062   1.79157879]\n",
      " [ 1.30202103  0.02676546]\n",
      " [ 1.00445006  0.44573981]\n",
      " [ 0.29922978 -0.20397818]]\n",
      "[[ 1.2645062   1.79157879]\n",
      " [ 1.30202103  0.02676546]\n",
      " [ 1.00445006  0.44573981]\n",
      " [ 0.29922978 -0.20397818]]\n"
     ]
    },
    {
     "data": {
      "text/plain": [
       "array([[ 1.30202103,  0.02676546],\n",
       "       [ 1.00445006,  0.44573981],\n",
       "       [ 1.2645062 ,  1.79157879],\n",
       "       [ 0.29922978, -0.20397818]])"
      ]
     },
     "execution_count": 37,
     "metadata": {},
     "output_type": "execute_result"
    }
   ],
   "source": [
    "x = np.random.randn(4,2)\n",
    "print(x)\n",
    "y = np.random.permutation(x)\n",
    "print(x)\n",
    "y"
   ]
  },
  {
   "cell_type": "markdown",
   "metadata": {},
   "source": [
    "***\n",
    "## A Sampling of Distributions Functions from the np.random package (At least 5)\n",
    "\n",
    "### numpy.random.binomial Function\n",
    "numpy.random.binomial(n, p, size=None)\n",
    "\n",
    "This function draws samples from the binomial distribution, where 'n' is the number of trials and 'p' is the probability of success. 'n' must be >= 0 and 'p' is in the interval [0,1] i.e. >=0 and <=1.\n",
    "\n",
    "The size parameter is the desired array output shape. If no size is given, none is assumed and a single value is returned.\n",
    "\n",
    "The probability density for the binomial distribution is: $$ P(N)  = \\binom{n}{N}p^N(1-p)^{n-N} $$ where n is the number of trials, p is the probability of success and N is the number of successes. [8]"
   ]
  },
  {
   "cell_type": "code",
   "execution_count": 66,
   "metadata": {},
   "outputs": [
    {
     "data": {
      "text/plain": [
       "2"
      ]
     },
     "execution_count": 66,
     "metadata": {},
     "output_type": "execute_result"
    }
   ],
   "source": [
    "n, p = 10, 0.5 # 10 coin tosses with probablilty of success 0.5.\n",
    "np.random.binomial(n,p) # returns a single value"
   ]
  },
  {
   "cell_type": "code",
   "execution_count": 75,
   "metadata": {},
   "outputs": [
    {
     "data": {
      "image/png": "[encoded data removed]",
      "text/plain": [
       "<Figure size 432x288 with 1 Axes>"
      ]
     },
     "metadata": {
      "needs_background": "light"
     },
     "output_type": "display_data"
    }
   ],
   "source": [
    "n, p = 10, 0.5 # 10 coin tosses with probablilty of success 0.5.\n",
    "x = np.random.binomial(n,p,1000) # returns 1000 values\n",
    "plt.hist(x); "
   ]
  },
  {
   "cell_type": "code",
   "execution_count": 9,
   "metadata": {},
   "outputs": [
    {
     "name": "stdout",
     "output_type": "stream",
     "text": [
      "Percentage of times your number does not hit in 50 spins of the wheel : 26.700000000000003%\n"
     ]
    },
    {
     "data": {
      "image/png": "[encoded data removed]",
      "text/plain": [
       "<Figure size 432x288 with 1 Axes>"
      ]
     },
     "metadata": {
      "needs_background": "light"
     },
     "output_type": "display_data"
    }
   ],
   "source": [
    "n, p = 50, .027 # 50 spins of a roulette wheel with 1/37 (0.027) chance of hitting your number (paying 35/1)\n",
    "s = np.random.binomial(n, p, 1000) # 1000 samples of 50 spins of the wheel\n",
    "result = (sum(np.random.binomial(n, p, 1000) == 0)/1000)*100 # percentage of times where your number doesnt hit in 50 spins of the wheel\n",
    "print('Percentage of times your number does not hit in 50 spins of the wheel : ' + str(result) + '%')\n",
    "plt.title('Roulette: 1000 samples of 50 spins, selecting one number.')\n",
    "plt.xlabel('Number of hits in 50 spins')\n",
    "plt.hist(s);"
   ]
  },
  {
   "cell_type": "markdown",
   "metadata": {},
   "source": [
    "***\n",
    "### numpy.random.f Function\n",
    "numpy.random.f(dfnum, dfden, size=None)\n",
    "\n",
    "Samples are drawn from an F distribution with specified parameters, dfnum (degrees of freedom in numerator) and dfden (degrees of freedom in denominator), where both parameters should be greater than zero.\n",
    "\n",
    "If size is None, a single value is returned. Otherwise the the size is the shape of the output array.\n",
    "\n",
    "Also known as the Fisher-Snedecor distribution (after R.A. Fisher and George W. Snedecor). The F distribution is the distribution of ratios of two independent estimators of the population variances. [9]\n",
    "\n",
    "It can be used to determine if the pattern you identify in data is significantly different than no pattern at all. [10] \n",
    "\n",
    "An example from Glantz[11] , pp 47-40:\n",
    "\n",
    "Two groups, children of diabetics (25 people) and children from people without diabetes (25 controls). Fasting blood glucose was measured, case group had a mean value of 86.1, controls had a mean value of 82.2. Standard deviations were 2.09 and 2.49 respectively. Are these data consistent with the null hypothesis that the parents diabetic status does not affect their children’s blood glucose levels? Calculating the F statistic from the data gives a value of 36.01.\n"
   ]
  },
  {
   "cell_type": "code",
   "execution_count": 46,
   "metadata": {},
   "outputs": [
    {
     "name": "stdout",
     "output_type": "stream",
     "text": [
      "The lower bound for the top 1% of the samples is : 7.5014890223174815\n"
     ]
    }
   ],
   "source": [
    "# Draw samples from the distribution:\n",
    "dfnum = 1  # between group degrees of freedom\n",
    "dfden = 48 # within groups degrees of freedom\n",
    "s = np.random.f(dfnum, dfden, 1000)\n",
    "x = np.sort(s)[-10] \n",
    "print('The lower bound for the top 1% of the samples is : ' + str(x))"
   ]
  },
  {
   "cell_type": "markdown",
   "metadata": {},
   "source": [
    "So there is about a 1% chance that the F statistic will exceed 7.5, the measured value is 36, so the null hypothesis is rejected at the 1% level."
   ]
  },
  {
   "cell_type": "markdown",
   "metadata": {},
   "source": [
    "***\n",
    "### numpy.random.chisquare Function\n",
    "\n",
    "numpy.random.chisquare(df, size=None)\n",
    "\n",
    "This function draw samples from a chi-square distribution.\n",
    "\n",
    "The chi squared distribution is a continuous probability distribution that is widely used in statistical inference.\n",
    "\n",
    "The df parameter is the number of degress of freedom. If size parametere is None, a single value is returned. Otherwise the the size is the shape of the output array.\n",
    "\n",
    "The variable obtained by summing the squares of df independent, standard normally distributed random variables:\n",
    "$$ Q = \\sum_{i=0}^{\\mathtt{df}} X^2_i\"$$\n",
    "\n",
    "is chi-square distributed, denoted :\n",
    "$$ Q \\sim \\chi^2_k $$ \n",
    "\n",
    "The probability density function of the chi-squared distribution is :\n",
    "$$  p(x) = \\frac{(1/2)^{k/2}}{\\Gamma(k/2)}\n",
    "x^{k/2 - 1} e^{-x/2} $$\n",
    "\n"
   ]
  },
  {
   "cell_type": "markdown",
   "metadata": {},
   "source": [
    "***\n",
    "## Seeds in Generating Pseudorandom Numbers"
   ]
  },
  {
   "cell_type": "markdown",
   "metadata": {},
   "source": [
    "***\n",
    "## References\n",
    "[1] https://numpy.org/\n",
    "\n",
    "[2] https://docs.scipy.org/doc/numpy/reference/random/bit_generators/mt19937.html\n",
    "\n",
    "[3] https://stattrek.com/statistics/dictionary.aspx?definition=standard_normal_distribution\n",
    "\n",
    "[4] http://mathworld.wolfram.com/DiscreteUniformDistribution.html\n",
    "\n",
    "[5] https://stackoverflow.com/a/47232184\n",
    "\n",
    "[6] https://docs.scipy.org/doc/numpy-1.16.0/reference/generated/numpy.random.random_sample.html#numpy.random.random_sample\n",
    "\n",
    "[7] https://stackoverflow.com/a/40689169\n",
    "\n",
    "[8] https://docs.scipy.org/doc/numpy-1.16.0/reference/generated/numpy.random.binomial.html#numpy.random.binomial\n",
    "\n",
    "[9] https://explorable.com/f-distribution\n",
    "\n",
    "[10] https://magoosh.com/statistics/f-distribution-explained/\n",
    "\n",
    "[11] Glantz, Stanton A. “Primer of Biostatistics.”, McGraw-Hill, Fifth Edition, 2002."
   ]
  },
  {
   "cell_type": "code",
   "execution_count": null,
   "metadata": {},
   "outputs": [],
   "source": []
  }
 ],
 "metadata": {
  "kernelspec": {
   "display_name": "Python 3",
   "language": "python",
   "name": "python3"
  },
  "language_info": {
   "codemirror_mode": {
    "name": "ipython",
    "version": 3
   },
   "file_extension": ".py",
   "mimetype": "text/x-python",
   "name": "python",
   "nbconvert_exporter": "python",
   "pygments_lexer": "ipython3",
   "version": "3.7.3"
  }
 },
 "nbformat": 4,
 "nbformat_minor": 4
}
